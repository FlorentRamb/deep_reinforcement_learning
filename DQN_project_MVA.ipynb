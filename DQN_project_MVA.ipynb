{
  "nbformat": 4,
  "nbformat_minor": 0,
  "metadata": {
    "kernelspec": {
      "name": "python3",
      "display_name": "Python 3"
    },
    "language_info": {
      "codemirror_mode": {
        "name": "ipython",
        "version": 3
      },
      "file_extension": ".py",
      "mimetype": "text/x-python",
      "name": "python",
      "nbconvert_exporter": "python",
      "pygments_lexer": "ipython3",
      "version": "3.7.3"
    },
    "colab": {
      "name": "DQN_project_MVA.ipynb",
      "provenance": [],
      "collapsed_sections": [],
      "toc_visible": true
    },
    "accelerator": "GPU"
  },
  "cells": [
    {
      "cell_type": "markdown",
      "metadata": {
        "id": "iKj1gTr_RDW6",
        "colab_type": "text"
      },
      "source": [
        "**You may need to install [OpenCV](https://pypi.python.org/pypi/opencv-python) and [scikit-video](http://www.scikit-video.org/stable/).**"
      ]
    },
    {
      "cell_type": "code",
      "metadata": {
        "id": "E2If8gtBRcLh",
        "colab_type": "code",
        "outputId": "00dc3b39-2760-47b3-a54a-867965ca39ca",
        "colab": {
          "base_uri": "https://localhost:8080/",
          "height": 91
        }
      },
      "source": [
        "!sudo pip install scikit-video"
      ],
      "execution_count": 39,
      "outputs": [
        {
          "output_type": "stream",
          "text": [
            "Requirement already satisfied: scikit-video in /usr/local/lib/python3.6/dist-packages (1.1.11)\n",
            "Requirement already satisfied: scipy in /usr/local/lib/python3.6/dist-packages (from scikit-video) (1.4.1)\n",
            "Requirement already satisfied: pillow in /usr/local/lib/python3.6/dist-packages (from scikit-video) (6.2.2)\n",
            "Requirement already satisfied: numpy in /usr/local/lib/python3.6/dist-packages (from scikit-video) (1.17.5)\n"
          ],
          "name": "stdout"
        }
      ]
    },
    {
      "cell_type": "code",
      "metadata": {
        "id": "PPADUZ7-RDW-",
        "colab_type": "code",
        "colab": {}
      },
      "source": [
        "import keras\n",
        "import numpy as np\n",
        "import io\n",
        "import base64\n",
        "from IPython.display import HTML\n",
        "import skvideo.io\n",
        "import cv2\n",
        "import json\n",
        "\n",
        "from keras.models import Sequential, model_from_json\n",
        "from keras.layers.core import Dense\n",
        "from keras.optimizers import sgd, adam\n",
        "from keras.layers import Conv2D, MaxPooling2D, Activation, AveragePooling2D, BatchNormalization, Dropout, Flatten"
      ],
      "execution_count": 0,
      "outputs": []
    },
    {
      "cell_type": "markdown",
      "metadata": {
        "id": "O8asQ9YiRDXI",
        "colab_type": "text"
      },
      "source": [
        "# MiniProject on Deep Reinforcement Learning"
      ]
    },
    {
      "cell_type": "markdown",
      "metadata": {
        "id": "5X1-KlbYRDXK",
        "colab_type": "text"
      },
      "source": [
        "__Notations__: $E_p$ is the expectation under probability $p$. Please justify each of your answer and widely comment your code."
      ]
    },
    {
      "cell_type": "markdown",
      "metadata": {
        "id": "cA72rUzsRDXM",
        "colab_type": "text"
      },
      "source": [
        "# Context"
      ]
    },
    {
      "cell_type": "markdown",
      "metadata": {
        "id": "NBmxfPNlRDXO",
        "colab_type": "text"
      },
      "source": [
        "In a reinforcement learning algorithm, we modelize each step $t$ as an action $a_t$ obtained from a state $s_t$, i.e. $\\{(a_{t},s_{t})_{t\\leq T}\\}$ having the Markov property. We consider a discount factor $\\gamma \\in [0,1]$ that ensures convergence. The goal is to find among all the policies $\\pi$, one that maximizes the expected reward:\n",
        "\n",
        "\\begin{equation*}\n",
        "R(\\pi)=\\sum_{t\\leq T}E_{p^{\\pi}}[\\gamma^t r(s_{t},a_{t})] \\> ,\n",
        "\\end{equation*}\n",
        "\n",
        "where: \n",
        "\\begin{equation*}p^{\\pi}(a_{0},a_{1},s_{1},...,a_{T},s_{T})=p(a_{0})\\prod_{t=1}^{T}\\pi(a_{t}|s_{t})p(s_{t+1}|s_{t},a_{t}) \\> .\n",
        "\\end{equation*}\n",
        "\n",
        "We note the $Q$-function:\n",
        "\n",
        "\\begin{equation*}Q^\\pi(s,a)=E_{p^{\\pi}}[\\sum_{t\\leq T}\\gamma^{t}r(s_{t},a_{t})|s_{0}=s,a_{0}=a] \\> .\n",
        "\\end{equation*}\n",
        "\n",
        "Thus, the optimal Q function is:\n",
        "\\begin{equation*}\n",
        "Q^*(s,a)=\\max_{\\pi}Q^\\pi(s,a) \\> .\n",
        "\\end{equation*}\n",
        "\n",
        "In this project, we will apply the deep reinforcement learning techniques to a simple game: an agent will have to learn from scratch a policy that will permit it maximizing a reward."
      ]
    },
    {
      "cell_type": "markdown",
      "metadata": {
        "id": "TZaFR3-ERDXV",
        "colab_type": "text"
      },
      "source": [
        "## The environment, the agent and the game"
      ]
    },
    {
      "cell_type": "markdown",
      "metadata": {
        "id": "ZQ4j0zaqRDXW",
        "colab_type": "text"
      },
      "source": [
        "### The environment"
      ]
    },
    {
      "cell_type": "markdown",
      "metadata": {
        "id": "nNV5DvBVRDXX",
        "colab_type": "text"
      },
      "source": [
        "```Environment``` is an abstract class that represents the states, rewards, and actions to obtain the new state."
      ]
    },
    {
      "cell_type": "code",
      "metadata": {
        "id": "tzZ2C2BtRDXa",
        "colab_type": "code",
        "colab": {}
      },
      "source": [
        "class Environment(object):\n",
        "    def __init__(self):\n",
        "        pass\n",
        "\n",
        "    def act(self, act):\n",
        "        \"\"\"\n",
        "        One can act on the environment and obtain its reaction:\n",
        "        - the new state\n",
        "        - the reward of the new state\n",
        "        - should we continue the game?\n",
        "\n",
        "        :return: state, reward, game_over\n",
        "        \"\"\"\n",
        "        pass\n",
        "\n",
        "\n",
        "    def reset(self):\n",
        "        \"\"\"\n",
        "        Reinitialize the environment to a random state and returns\n",
        "        the original state\n",
        "\n",
        "        :return: state\n",
        "        \"\"\"\n",
        "        pass\n",
        "    \n",
        "    def draw(self):\n",
        "        \"\"\"\n",
        "        Visualize in the console or graphically the current state\n",
        "        \"\"\"\n",
        "        pass"
      ],
      "execution_count": 0,
      "outputs": []
    },
    {
      "cell_type": "markdown",
      "metadata": {
        "id": "5rnA06DvRDXf",
        "colab_type": "text"
      },
      "source": [
        "The method ```act``` allows to act on the environment at a given state $s_t$ (stored internally), via action $a_t$. The method will return the new state $s_{t+1}$, the reward $r(s_{t},a_{t})$ and determines if $t\\leq T$ (*game_over*).\n",
        "\n",
        "The method ```reset``` simply reinitializes the environment to a random state $s_0$.\n",
        "\n",
        "The method ```draw``` displays the current state $s_t$ (this is useful to check the behavior of the Agent).\n",
        "\n",
        "We modelize $s_t$ as a tensor, while $a_t$ is an integer."
      ]
    },
    {
      "cell_type": "markdown",
      "metadata": {
        "id": "zJwfB-bORDXg",
        "colab_type": "text"
      },
      "source": [
        "### The Agent"
      ]
    },
    {
      "cell_type": "markdown",
      "metadata": {
        "id": "4HsyK3o8RDXi",
        "colab_type": "text"
      },
      "source": [
        "The goal of the ```Agent``` is to interact with the ```Environment``` by proposing actions $a_t$ obtained from a given state $s_t$ to attempt to maximize its __reward__ $r(s_t,a_t)$. We propose the following abstract class:"
      ]
    },
    {
      "cell_type": "code",
      "metadata": {
        "id": "cK47Qt6mRDXk",
        "colab_type": "code",
        "colab": {}
      },
      "source": [
        "class Agent(object):\n",
        "    def __init__(self, epsilon=0.1, n_action=4):\n",
        "        self.epsilon = epsilon\n",
        "        self.n_action = n_action\n",
        "    \n",
        "    def set_epsilon(self,e):\n",
        "        self.epsilon = e\n",
        "\n",
        "    def act(self,s,train=True):\n",
        "        \"\"\" This function should return the next action to do:\n",
        "        an integer between 0 and 4 (not included) with a random exploration of epsilon\"\"\"\n",
        "        if train:\n",
        "            if np.random.rand() <= self.epsilon:\n",
        "                a = np.random.randint(0, self.n_action, size=1)[0]\n",
        "            else:\n",
        "                a = self.learned_act(s)\n",
        "        else: # in some cases, this can improve the performance.. remove it if poor performances\n",
        "            a = self.learned_act(s)\n",
        "\n",
        "        return a\n",
        "\n",
        "    def learned_act(self,s):\n",
        "        \"\"\" Act via the policy of the agent, from a given state s\n",
        "        it proposes an action a\"\"\"\n",
        "        pass\n",
        "\n",
        "    def reinforce(self, s, n_s, a, r, game_over_):\n",
        "        \"\"\" This function is the core of the learning algorithm. \n",
        "        It takes as an input the current state s_, the next state n_s_\n",
        "        the action a_ used to move from s_ to n_s_ and the reward r_.\n",
        "        \n",
        "        Its goal is to learn a policy.\n",
        "        \"\"\"\n",
        "        pass\n",
        "\n",
        "    def save(self):\n",
        "        \"\"\" This function returns basic stats if applicable: the\n",
        "        loss and/or the model\"\"\"\n",
        "        pass\n",
        "\n",
        "    def load(self):\n",
        "        \"\"\" This function allows to restore a model\"\"\"\n",
        "        pass"
      ],
      "execution_count": 0,
      "outputs": []
    },
    {
      "cell_type": "markdown",
      "metadata": {
        "id": "yJiQc3lVRDXp",
        "colab_type": "text"
      },
      "source": [
        "***\n",
        "__Question 1__:\n",
        "Explain the function act. Why is ```epsilon``` essential?"
      ]
    },
    {
      "cell_type": "markdown",
      "metadata": {
        "id": "nNfEyAfbRDXp",
        "colab_type": "text"
      },
      "source": [
        "The function *act* chooses an action to take given the current state.\n",
        "\n",
        "If we don't use ```epsilon```, then the model would choose the action that gives the best reward given what it learnt and never try another action.\n",
        "The idea is that in the proportion ```epsilon``` of the trials the model will choose an action randomly and gain information, and in the proportion ```1 - epsilon``` of the trials it would stick to the learnt policy and take the best action according to it.\n",
        "In the end the greater ```epsilon``` the more explorative the model will be, but the less greedy it will be.\n",
        "We call this the exploration exploitation dilemma."
      ]
    },
    {
      "cell_type": "markdown",
      "metadata": {
        "id": "ak-TyszCRDXr",
        "colab_type": "text"
      },
      "source": [
        "***\n",
        "### The Game"
      ]
    },
    {
      "cell_type": "markdown",
      "metadata": {
        "id": "DfHPeusMRDXt",
        "colab_type": "text"
      },
      "source": [
        "The ```Agent``` and the ```Environment``` work in an interlaced way as in the following (take some time to understand this code as it is the core of the project)\n",
        "\n",
        "```python\n",
        "\n",
        "epoch = 300\n",
        "env = Environment()\n",
        "agent = Agent()\n",
        "\n",
        "\n",
        "# Number of won games\n",
        "score = 0\n",
        "loss = 0\n",
        "\n",
        "\n",
        "for e in range(epoch):\n",
        "    # At each epoch, we restart to a fresh game and get the initial state\n",
        "    state = env.reset()\n",
        "    # This assumes that the games will end\n",
        "    game_over = False\n",
        "\n",
        "    win = 0\n",
        "    lose = 0\n",
        "    \n",
        "    while not game_over:\n",
        "        # The agent performs an action\n",
        "        action = agent.act(state)\n",
        "\n",
        "        # Apply an action to the environment, get the next state, the reward\n",
        "        # and if the games end\n",
        "        prev_state = state\n",
        "        state, reward, game_over = env.act(action)\n",
        "\n",
        "        # Update the counters\n",
        "        if reward > 0:\n",
        "            win = win + reward\n",
        "        if reward < 0:\n",
        "            lose = lose -reward\n",
        "\n",
        "        # Apply the reinforcement strategy\n",
        "        loss = agent.reinforce(prev_state, state,  action, reward, game_over)\n",
        "\n",
        "    # Save as a mp4\n",
        "    if e % 10 == 0:\n",
        "        env.draw(e)\n",
        "\n",
        "    # Update stats\n",
        "    score += win-lose\n",
        "\n",
        "    print(\"Epoch {:03d}/{:03d} | Loss {:.4f} | Win/lose count {}/{} ({})\"\n",
        "          .format(e, epoch, loss, win, lose, win-lose))\n",
        "    agent.save()\n",
        "```"
      ]
    },
    {
      "cell_type": "markdown",
      "metadata": {
        "id": "RMyhbBHoRDXu",
        "colab_type": "text"
      },
      "source": [
        "# The game, *eat cheese*"
      ]
    },
    {
      "cell_type": "markdown",
      "metadata": {
        "id": "zZqaCO_hRDXv",
        "colab_type": "text"
      },
      "source": [
        "A rat runs on an island and tries to eat as much as possible. The island is subdivided into $N\\times N$ cells, in which there are cheese (+0.5) and poisonous cells (-1). The rat has a visibility of 2 cells (thus it can see $5^2$ cells). The rat is given a time $T$ to accumulate as much food as possible. It can perform 4 actions: going up, down, left, right. \n",
        "\n",
        "The goal is to code an agent to solve this task that will learn by trial and error. We propose the following environment:"
      ]
    },
    {
      "cell_type": "code",
      "metadata": {
        "id": "eI3gjsh1RDXw",
        "colab_type": "code",
        "colab": {}
      },
      "source": [
        "class Environment(object):\n",
        "    def __init__(self, grid_size=10, max_time=500, temperature=0.1):\n",
        "        grid_size = grid_size + 4\n",
        "        self.grid_size = grid_size\n",
        "        self.max_time = max_time\n",
        "        self.temperature = temperature\n",
        "\n",
        "        #board on which one plays\n",
        "        self.board = np.zeros((grid_size,grid_size))\n",
        "        self.position = np.zeros((grid_size,grid_size))\n",
        "\n",
        "        # coordinate of the cat\n",
        "        self.x = 0\n",
        "        self.y = 1\n",
        "\n",
        "        # self time\n",
        "        self.t = 0\n",
        "\n",
        "        self.scale=16\n",
        "\n",
        "        self.to_draw = np.zeros((max_time+2, grid_size*self.scale, grid_size*self.scale, 3))\n",
        "\n",
        "\n",
        "    def draw(self,e):\n",
        "        skvideo.io.vwrite(str(e) + '.mp4', self.to_draw)\n",
        "\n",
        "    def get_frame(self,t):\n",
        "        b = np.zeros((self.grid_size,self.grid_size,3))+128\n",
        "        b[self.board > 0, 0] = 256\n",
        "        b[self.board < 0, 2] = 256\n",
        "        b[self.x,self.y,:] = 256\n",
        "        b[-2:,:,:] = 0\n",
        "        b[:,-2:,:] = 0\n",
        "        b[:2,:,:] = 0\n",
        "        b[:,:2,:] = 0\n",
        "        \n",
        "        b =  cv2.resize(b, None, fx=self.scale, fy=self.scale, interpolation=cv2.INTER_NEAREST)\n",
        "\n",
        "        self.to_draw[t,:,:,:] = b\n",
        "\n",
        "\n",
        "    def act(self, action):\n",
        "        \"\"\"This function returns the new state, reward and decides if the\n",
        "        game ends.\"\"\"\n",
        "\n",
        "        self.get_frame(int(self.t))\n",
        "\n",
        "        self.position = np.zeros((self.grid_size, self.grid_size))\n",
        "\n",
        "        self.position[0:2,:] = -1\n",
        "        self.position[:,0:2] = -1\n",
        "        self.position[-2:, :] = -1\n",
        "        self.position[-2:, :] = -1\n",
        "\n",
        "        self.position[self.x, self.y] = 1\n",
        "        if action == 0:\n",
        "            if self.x == self.grid_size - 3:\n",
        "                self.x = self.x - 1\n",
        "            else:\n",
        "                self.x = self.x + 1\n",
        "        elif action == 1:\n",
        "            if self.x == 2:\n",
        "                self.x = self.x + 1\n",
        "            else:\n",
        "                self.x = self.x - 1\n",
        "        elif action == 2:\n",
        "            if self.y == self.grid_size - 3:\n",
        "                self.y = self.y - 1\n",
        "            else:\n",
        "                self.y = self.y + 1\n",
        "        elif action == 3:\n",
        "            if self.y == 2:\n",
        "                self.y = self.y + 1\n",
        "            else:\n",
        "                self.y = self.y - 1\n",
        "        else:\n",
        "            RuntimeError('Error: action not recognized')\n",
        "\n",
        "        self.t = self.t + 1\n",
        "        reward = self.board[self.x, self.y]\n",
        "        self.board[self.x, self.y] = 0\n",
        "        game_over = self.t > self.max_time\n",
        "        state = np.concatenate((self.board.reshape(self.grid_size, self.grid_size,1),\n",
        "                        self.position.reshape(self.grid_size, self.grid_size,1)),axis=2)\n",
        "        state = state[self.x-2:self.x+3,self.y-2:self.y+3,:]\n",
        "\n",
        "        return state, reward, game_over\n",
        "\n",
        "    def reset(self):\n",
        "        \"\"\"This function resets the game and returns the initial state\"\"\"\n",
        "\n",
        "        self.x = np.random.randint(3, self.grid_size-3, size=1)[0]\n",
        "        self.y = np.random.randint(3, self.grid_size-3, size=1)[0]\n",
        "\n",
        "\n",
        "        bonus = 0.5*np.random.binomial(1,self.temperature,size=self.grid_size**2)\n",
        "        bonus = bonus.reshape(self.grid_size,self.grid_size)\n",
        "\n",
        "        malus = -1.0*np.random.binomial(1,self.temperature,size=self.grid_size**2)\n",
        "        malus = malus.reshape(self.grid_size, self.grid_size)\n",
        "\n",
        "        self.to_draw = np.zeros((self.max_time+2, self.grid_size*self.scale, self.grid_size*self.scale, 3))\n",
        "\n",
        "\n",
        "        malus[bonus>0]=0\n",
        "\n",
        "        self.board = bonus + malus\n",
        "\n",
        "        self.position = np.zeros((self.grid_size, self.grid_size))\n",
        "        self.position[0:2,:]= -1\n",
        "        self.position[:,0:2] = -1\n",
        "        self.position[-2:, :] = -1\n",
        "        self.position[-2:, :] = -1\n",
        "        self.board[self.x,self.y] = 0\n",
        "        self.t = 0\n",
        "\n",
        "        state = np.concatenate((\n",
        "                               self.board.reshape(self.grid_size, self.grid_size,1),\n",
        "                        self.position.reshape(self.grid_size, self.grid_size,1)),axis=2)\n",
        "\n",
        "        state = state[self.x - 2:self.x + 3, self.y - 2:self.y + 3, :]\n",
        "        return state"
      ],
      "execution_count": 0,
      "outputs": []
    },
    {
      "cell_type": "markdown",
      "metadata": {
        "id": "WJg39KijRDX1",
        "colab_type": "text"
      },
      "source": [
        "The following elements are important because they correspond to the hyper parameters for this project:"
      ]
    },
    {
      "cell_type": "code",
      "metadata": {
        "id": "eke2MjMRRDX2",
        "colab_type": "code",
        "colab": {}
      },
      "source": [
        "# parameters\n",
        "size = 13\n",
        "T = 200\n",
        "temperature = 0.3\n",
        "epochs_train = 50 # set small when debugging\n",
        "epochs_test = 50 # set small when debugging\n",
        "\n",
        "# display videos\n",
        "def display_videos(name):\n",
        "    video = io.open(name, 'r+b').read()\n",
        "    encoded = base64.b64encode(video)\n",
        "    return '''<video alt=\"test\" controls>\n",
        "                <source src=\"data:video/mp4;base64,{0}\" type=\"video/mp4\" />\n",
        "             </video>'''.format(encoded.decode('ascii'))"
      ],
      "execution_count": 0,
      "outputs": []
    },
    {
      "cell_type": "markdown",
      "metadata": {
        "id": "JGnGIZSgRDX6",
        "colab_type": "text"
      },
      "source": [
        "__Question 2__ Explain the use of the arrays ```position``` and ```board```."
      ]
    },
    {
      "cell_type": "markdown",
      "metadata": {
        "id": "9Ht0V-aHRDX8",
        "colab_type": "text"
      },
      "source": [
        "The array ```position``` gives the position of the mouse on the island. In particular it is set to 1 where the mouse is and 0 everywhere else, except on the extra cells at the edge of the island where it is set to -1. This helps the model to understand where it is and where it can go.\n",
        "\n",
        "The array ```board``` is generated randomly at the beginning of the game by the method *reset*. It contains the reward (bonus or malus) of each cell. That is when the mouse goes on a cell, it will receive a reward given by the value in the ```board``` array at this position. Then when the mouse leaves the cell it's value is turned to 0 (as the poisonous or edible cheese was eaten). This helps the model to understand what gives a bonus and what gives a malus."
      ]
    },
    {
      "cell_type": "markdown",
      "metadata": {
        "id": "zEiwzTAcRDX9",
        "colab_type": "text"
      },
      "source": [
        "## Random Agent"
      ]
    },
    {
      "cell_type": "markdown",
      "metadata": {
        "id": "Swd19QCGRDX_",
        "colab_type": "text"
      },
      "source": [
        "***\n",
        "__Question 3__ Implement a random Agent (only ```learned_act``` needs to be implemented):"
      ]
    },
    {
      "cell_type": "code",
      "metadata": {
        "id": "uUSf9F3CRDYA",
        "colab_type": "code",
        "colab": {}
      },
      "source": [
        "class RandomAgent(Agent):\n",
        "    def __init__(self):\n",
        "        super(RandomAgent, self).__init__()\n",
        "        pass\n",
        "\n",
        "    def learned_act(self, s):\n",
        "        return np.random.randint(0, 4, 1)"
      ],
      "execution_count": 0,
      "outputs": []
    },
    {
      "cell_type": "markdown",
      "metadata": {
        "id": "JdsqHktURDYE",
        "colab_type": "text"
      },
      "source": [
        "***\n",
        "***\n",
        "__Question 4__ Visualize the game moves. You need to fill in the following function for the evaluation:"
      ]
    },
    {
      "cell_type": "code",
      "metadata": {
        "id": "g-sKolCgRDYF",
        "colab_type": "code",
        "colab": {}
      },
      "source": [
        "def test(agent, env, epochs, prefix=''):\n",
        "    # Number of won games\n",
        "    score = 0\n",
        "        \n",
        "    for e in range(epochs):\n",
        "        \n",
        "        ##### FILL IN HERE\n",
        "        \n",
        "        # At each epoch, we restart to a fresh game and get the initial state\n",
        "        state = env.reset()\n",
        "        # This assumes that the games will end\n",
        "        game_over = False\n",
        "\n",
        "        win = 0\n",
        "        lose = 0\n",
        "\n",
        "        while not game_over:\n",
        "            # The agent performs an action\n",
        "            action = agent.learned_act(state) # only act according to the learnt policy at test time\n",
        "\n",
        "            # Apply an action to the environment, get the next state, the reward\n",
        "            # and if the games end\n",
        "            prev_state = state\n",
        "            state, reward, game_over = env.act(action)\n",
        "\n",
        "            # Update the counters\n",
        "            if reward > 0:\n",
        "                win = win + reward\n",
        "            if reward < 0:\n",
        "                lose = lose -reward\n",
        "\n",
        "        # Save as a mp4\n",
        "        env.draw(prefix+str(e))\n",
        "\n",
        "        # Update stats\n",
        "        score = score + win - lose\n",
        "\n",
        "        print(\"Win/lose count {}/{}. Average score ({})\"\n",
        "              .format(win, lose, score/(1+e)))\n",
        "    print('Final score: '+str(score/epochs))"
      ],
      "execution_count": 0,
      "outputs": []
    },
    {
      "cell_type": "code",
      "metadata": {
        "id": "ORD1j2XQRDYK",
        "colab_type": "code",
        "outputId": "9ddda9cc-b2c3-480a-9462-12f002aefbff",
        "colab": {
          "base_uri": "https://localhost:8080/",
          "height": 1000
        }
      },
      "source": [
        "# Initialize the game\n",
        "env = Environment(grid_size=size, max_time=T, temperature=temperature)\n",
        "\n",
        "# Initialize the agent!\n",
        "agent = RandomAgent()\n",
        "\n",
        "test(agent, env, epochs_test, prefix='random')\n",
        "HTML(display_videos('random0.mp4'))"
      ],
      "execution_count": 47,
      "outputs": [
        {
          "output_type": "stream",
          "text": [
            "Win/lose count 12.0/20.0. Average score (-8.0)\n",
            "Win/lose count 17.0/18.0. Average score (-4.5)\n",
            "Win/lose count 13.5/11.0. Average score (-2.1666666666666665)\n",
            "Win/lose count 9.5/18.0. Average score (-3.75)\n",
            "Win/lose count 10.0/12.0. Average score (-3.4)\n",
            "Win/lose count 13.0/16.0. Average score (-3.3333333333333335)\n",
            "Win/lose count 17.5/16.0. Average score (-2.642857142857143)\n",
            "Win/lose count 11.5/13.0. Average score (-2.5)\n",
            "Win/lose count 9.0/17.0. Average score (-3.111111111111111)\n",
            "Win/lose count 14.0/10.0. Average score (-2.4)\n",
            "Win/lose count 10.5/10.0. Average score (-2.1363636363636362)\n",
            "Win/lose count 7.5/13.0. Average score (-2.4166666666666665)\n",
            "Win/lose count 9.5/14.0. Average score (-2.576923076923077)\n",
            "Win/lose count 11.0/15.0. Average score (-2.6785714285714284)\n",
            "Win/lose count 10.0/25.0. Average score (-3.5)\n",
            "Win/lose count 14.5/8.0. Average score (-2.875)\n",
            "Win/lose count 6.5/3.0. Average score (-2.5)\n",
            "Win/lose count 10.5/17.0. Average score (-2.7222222222222223)\n",
            "Win/lose count 6.5/4.0. Average score (-2.4473684210526314)\n",
            "Win/lose count 8.5/11.0. Average score (-2.45)\n",
            "Win/lose count 10.0/16.0. Average score (-2.619047619047619)\n",
            "Win/lose count 14.5/14.0. Average score (-2.477272727272727)\n",
            "Win/lose count 7.0/10.0. Average score (-2.5)\n",
            "Win/lose count 8.0/17.0. Average score (-2.7708333333333335)\n",
            "Win/lose count 12.5/12.0. Average score (-2.64)\n",
            "Win/lose count 9.5/18.0. Average score (-2.8653846153846154)\n",
            "Win/lose count 14.0/13.0. Average score (-2.7222222222222223)\n",
            "Win/lose count 11.0/15.0. Average score (-2.767857142857143)\n",
            "Win/lose count 12.5/18.0. Average score (-2.8620689655172415)\n",
            "Win/lose count 5.0/10.0. Average score (-2.933333333333333)\n",
            "Win/lose count 12.5/15.0. Average score (-2.9193548387096775)\n",
            "Win/lose count 11.5/9.0. Average score (-2.75)\n",
            "Win/lose count 10.5/14.0. Average score (-2.772727272727273)\n",
            "Win/lose count 7.0/5.0. Average score (-2.6323529411764706)\n",
            "Win/lose count 10.5/15.0. Average score (-2.6857142857142855)\n",
            "Win/lose count 12.0/7.0. Average score (-2.4722222222222223)\n",
            "Win/lose count 12.0/11.0. Average score (-2.3783783783783785)\n",
            "Win/lose count 10.5/18.0. Average score (-2.513157894736842)\n",
            "Win/lose count 13.0/15.0. Average score (-2.5)\n",
            "Win/lose count 12.0/13.0. Average score (-2.4625)\n",
            "Win/lose count 8.5/19.0. Average score (-2.658536585365854)\n",
            "Win/lose count 8.0/11.0. Average score (-2.6666666666666665)\n",
            "Win/lose count 11.0/12.0. Average score (-2.627906976744186)\n",
            "Win/lose count 14.0/10.0. Average score (-2.477272727272727)\n",
            "Win/lose count 9.5/9.0. Average score (-2.411111111111111)\n",
            "Win/lose count 11.0/15.0. Average score (-2.4456521739130435)\n",
            "Win/lose count 11.0/8.0. Average score (-2.3297872340425534)\n",
            "Win/lose count 11.0/17.0. Average score (-2.40625)\n",
            "Win/lose count 12.5/11.0. Average score (-2.326530612244898)\n",
            "Win/lose count 10.5/12.0. Average score (-2.31)\n",
            "Final score: -2.31\n"
          ],
          "name": "stdout"
        },
        {
          "output_type": "execute_result",
          "data": {
            "text/html": [
              "<video alt=\"test\" controls>\n",
              "                <source src=\"data:video/mp4;base64,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\" type=\"video/mp4\" />\n",
              "             </video>"
            ],
            "text/plain": [
              "<IPython.core.display.HTML object>"
            ]
          },
          "metadata": {
            "tags": []
          },
          "execution_count": 47
        }
      ]
    },
    {
      "cell_type": "markdown",
      "metadata": {
        "id": "yTfk1YksRDYN",
        "colab_type": "text"
      },
      "source": [
        "***\n",
        "## DQN"
      ]
    },
    {
      "cell_type": "markdown",
      "metadata": {
        "id": "_anG1rObRDYP",
        "colab_type": "text"
      },
      "source": [
        "Let us assume here that $T=\\infty$.\n",
        "\n",
        "***\n",
        "__Question 5__ Let $\\pi$ be a policy, show that:\n",
        "\n",
        "\\begin{equation*}\n",
        "Q^{\\pi}(s,a)=E_{(s',a')\\sim p(.|s,a)}[r(s,a)+\\gamma Q^{\\pi}(s',a')]\n",
        "\\end{equation*}\n",
        "\n",
        "Then, show that for the optimal policy $\\pi^*$ (we assume its existence), the following holds: \n",
        "\n",
        "\\begin{equation*}\n",
        "Q^{*}(s,a)=E_{s'\\sim \\pi^*(.|s,a)}[r(s,a)+\\gamma\\max_{a'}Q^{*}(s',a')].\n",
        "\\end{equation*}\n",
        "Finally, deduce that a plausible objective is:\n",
        "\n",
        "\\begin{equation*}\n",
        "\\mathcal{L}(\\theta)=E_{s' \\sim \\pi^*(.|s,a)}\\Vert r+\\gamma\\max\\max_{a'}Q(s',a',\\theta)-Q(s,a,\\theta)\\Vert^{2}.\n",
        "\\end{equation*}\n",
        "\n",
        "\n"
      ]
    },
    {
      "cell_type": "markdown",
      "metadata": {
        "id": "ngr2VPkKRDYQ",
        "colab_type": "text"
      },
      "source": [
        "### 1)\n",
        "Using the Markov property and a change of variable on the time index we get:\n",
        "\\begin{align}\n",
        "Q^{\\pi}(s,a) &= E_{p^{\\pi}}[\\sum_{t\\geq 0}\\gamma^{t}r(s_{t},a_{t})|s_{0}=s,a_{0}=a] \\\\\n",
        "&= r(s,a) + \\gamma E_{p^{\\pi}}[\\sum_{t\\geq 1}\\gamma^{t-1}r(s_{t},a_{t})|s_{0}=s,a_{0}=a] \\\\\n",
        "&= r(s,a) + \\gamma \\sum_{(s', a')} p(s', a' | s, a) E_{p^{\\pi}}[\\sum_{t\\geq 1}\\gamma^{t-1}r(s_{t},a_{t})|s_0=s, a_0=a, s_1=s', a_1=a'] \\\\\n",
        "&= r(s,a) + \\gamma \\sum_{(s', a')} p(s', a' | s, a) E_{p^{\\pi}}[\\sum_{t\\geq 1}\\gamma^{t-1}r(s_{t},a_{t})|s_1=s', a_1=a'] \\\\\n",
        "&= r(s,a) + \\gamma \\sum_{(s', a')} p(s', a' | s, a) E_{p^{\\pi}}[\\sum_{t'\\geq 0}\\gamma^{t'}r(s_{t'},a_{t'})|s_{0}=s', a_{0}=a'] \\\\\n",
        "&= r(s,a) + \\gamma  E_{(s', a') \\sim p(., .| s, a)}[Q^{\\pi}(s', a')] \\\\\n",
        "&= E_{(s',a')\\sim p(., .|s,a)}[r(s,a)+\\gamma Q^{\\pi}(s',a')]\n",
        "\\end{align}"
      ]
    },
    {
      "cell_type": "markdown",
      "metadata": {
        "id": "HtUsR-6NFNqH",
        "colab_type": "text"
      },
      "source": [
        "### 2)\n",
        "We introduce call $\\pi^* = arg\\max_\\pi Q^{\\pi}(s,a)$. In particular we have: $\\pi^*(a|s) = \\mathbb{I}\\{a =  arg\\max_{a'} Q^*(s,a')\\}$. That is the optimal policy always chooses the action that maximizes $Q$ for a given $s$. Then we have:\n",
        "\\begin{align}\n",
        "Q^{*}(s,a) &= \\max_\\pi Q^{\\pi}(s,a) \\\\\n",
        "&= \\max_\\pi E_{(s',a')\\sim p(.,.|s,a)}[r(s,a)+\\gamma Q^{\\pi}(s',a')] \\\\\n",
        "&= E_{(s',a')\\sim p^*(.,.|s,a)}[r(s,a) + \\gamma Q^{*}(s',a')] \\\\\n",
        "&= E_{s'\\sim p^*(.|s,a)}[r(s,a)+\\gamma\\max_{a'}Q^{*}(s',a')]\n",
        "\\end{align}"
      ]
    },
    {
      "cell_type": "markdown",
      "metadata": {
        "id": "248m9zMLOh61",
        "colab_type": "text"
      },
      "source": [
        "### 3)\n",
        "A plausible objective would try to minimize on average under the best policy the error of the learnt $Q_\\theta$ function. That is:\n",
        "\n",
        "\\begin{equation*}\n",
        "\\mathcal{L}(\\theta)=E_{s' \\sim p^*(.|s,a)}\\Vert r+\\gamma \\max_{a'}Q(s',a',\\theta)-Q(s,a,\\theta)\\Vert^{2}.\n",
        "\\end{equation*}"
      ]
    },
    {
      "cell_type": "markdown",
      "metadata": {
        "id": "QY_S4_eVRDYS",
        "colab_type": "text"
      },
      "source": [
        "***\n",
        "The DQN-learning algorithm relies on these derivations to train the parameters $\\theta$ of a Deep Neural Network:\n",
        "\n",
        "1. At the state $s_t$, select the action $a_t$ with best reward using $Q_t$ and store the results;\n",
        "\n",
        "2. Obtain the new state $s_{t+1}$ from the environment $p$;\n",
        "\n",
        "3. Store $(s_t,a_t,s_{t+1})$;\n",
        "\n",
        "4. Obtain $Q_{t+1}$ by minimizing  $\\mathcal{L}$ from a recovered batch from the previously stored results.\n",
        "\n",
        "***\n",
        "__Question 6__ Implement the class ```Memory``` that stores moves (in a replay buffer) via ```remember``` and provides a ```random_access``` to these. Specify a maximum memory size to avoid side effects. You can for example use a ```list()``` and set by default ```max_memory=100```."
      ]
    },
    {
      "cell_type": "code",
      "metadata": {
        "id": "_o4rlwfdRDYT",
        "colab_type": "code",
        "colab": {}
      },
      "source": [
        "from random import choices\n",
        "\n",
        "class Memory(object):\n",
        "    def __init__(self, max_memory=100):\n",
        "        self.max_memory = max_memory\n",
        "        self.memory = list()\n",
        "\n",
        "    def remember(self, m):\n",
        "        if len(self.memory) == self.max_memory:\n",
        "            del self.memory[int(np.random.randint(0, self.max_memory, 1))] # randomly delete an element\n",
        "            #self.memory = self.memory[1:] # first in first out\n",
        "            self.memory.append(m)\n",
        "        else:\n",
        "            self.memory.append(m)\n",
        "\n",
        "    def random_access(self, k):\n",
        "        return choices(self.memory, k=k)"
      ],
      "execution_count": 0,
      "outputs": []
    },
    {
      "cell_type": "markdown",
      "metadata": {
        "id": "HfUiwsUVRDYV",
        "colab_type": "text"
      },
      "source": [
        "***\n",
        "The pipeline we will use for training is given below:"
      ]
    },
    {
      "cell_type": "code",
      "metadata": {
        "id": "aELVRcuWRDYW",
        "colab_type": "code",
        "colab": {}
      },
      "source": [
        "def train(agent, env, epoch, prefix=''):\n",
        "    # Number of won games\n",
        "    score = 0\n",
        "    loss = 0\n",
        "\n",
        "    for e in range(epoch):\n",
        "        # At each epoch, we restart to a fresh game and get the initial state\n",
        "        state = env.reset()\n",
        "        # This assumes that the games will terminate\n",
        "        game_over = False\n",
        "\n",
        "        win = 0\n",
        "        lose = 0\n",
        "\n",
        "        while not game_over:\n",
        "            # The agent performs an action\n",
        "            action = agent.act(state)\n",
        "\n",
        "            # Apply an action to the environment, get the next state, the reward\n",
        "            # and if the games end\n",
        "            prev_state = state\n",
        "            state, reward, game_over = env.act(action)\n",
        "\n",
        "            # Update the counters\n",
        "            if reward > 0:\n",
        "                win = win + reward\n",
        "            if reward < 0:\n",
        "                lose = lose - reward\n",
        "\n",
        "            # Apply the reinforcement strategy\n",
        "            loss = agent.reinforce(prev_state, state,  action, reward, game_over)\n",
        "\n",
        "        # Save as a mp4\n",
        "        if e % 10 == 0:\n",
        "            env.draw(prefix+str(e))\n",
        "\n",
        "        # Update stats\n",
        "        score += win - lose\n",
        "        \n",
        "        if e % 5 == 0:\n",
        "            print(\"Epoch {:03d}/{:03d} | Loss {:.4f} | Win/lose count {}/{} ({})\"\n",
        "                  .format(e, epoch, loss, win, lose, win-lose))\n",
        "        \n",
        "        agent.save(name_weights=prefix+'model.h5',name_model=prefix+'model.json')"
      ],
      "execution_count": 0,
      "outputs": []
    },
    {
      "cell_type": "markdown",
      "metadata": {
        "id": "mbwbwz9GRDYa",
        "colab_type": "text"
      },
      "source": [
        "***\n",
        "__Question 7__ Implement the DQN training algorithm using a cascade of fully connected layers. You can use different learning rate, batch size or memory size parameters. In particular, the loss might oscillate while the player will start to win the games. You have to find a good criterium."
      ]
    },
    {
      "cell_type": "code",
      "metadata": {
        "id": "MxMdBK4nRDYb",
        "colab_type": "code",
        "colab": {}
      },
      "source": [
        "class DQN(Agent):\n",
        "    def __init__(self, grid_size,  epsilon = 0.1, memory_size=100, batch_size = 16, n_state=2):\n",
        "        super(DQN, self).__init__(epsilon = epsilon)\n",
        "\n",
        "        # Discount for Q learning\n",
        "        self.discount = 0.99\n",
        "        \n",
        "        self.grid_size = grid_size\n",
        "        \n",
        "        # number of state\n",
        "        self.n_state = n_state\n",
        "\n",
        "        # Memory\n",
        "        self.memory = Memory(memory_size)\n",
        "        \n",
        "        # Batch size when learning\n",
        "        self.batch_size = batch_size\n",
        "\n",
        "    def learned_act(self, s):\n",
        "        return np.argmax(self.model.predict(s[None]))\n",
        "\n",
        "    def reinforce(self, s_, n_s_, a_, r_, game_over_):\n",
        "        # Two steps: first memorize the states, second learn from the pool\n",
        "\n",
        "        self.memory.remember([s_, n_s_, a_, r_, game_over_])\n",
        "        \n",
        "        input_states = np.zeros((self.batch_size, 5, 5, self.n_state))\n",
        "        target_q = np.zeros((self.batch_size, 4))\n",
        "        memory = self.memory.random_access(self.batch_size)\n",
        "        input_next_states = np.zeros((self.batch_size, 5, 5, self.n_state))\n",
        "        \n",
        "        for i in range(self.batch_size):\n",
        "            input_states[i] = memory[i][0]\n",
        "            input_next_states[i] = memory[i][1]\n",
        "        \n",
        "        # it is faster to predict on a sequence rather to do a sequence of predictions\n",
        "        target_q = self.model.predict(input_states) # then the gradients will be 0 were we don't know the reward\n",
        "        next_q = self.model.predict(input_next_states) # Q value of the next state\n",
        "        \n",
        "        for i in range(self.batch_size): # update with the true value of the reward where available\n",
        "            if memory[i][4]:\n",
        "                target_q[i, memory[i][2]] = memory[i][3] # if the game is over Q = r\n",
        "            else:\n",
        "                target_q[i, memory[i][2]] = memory[i][3] + self.discount*next_q[i].max()\n",
        "                \n",
        "        ######## FILL IN\n",
        "        # HINT: Clip the target to avoid exploiding gradients.. -- clipping is a bit tighter\n",
        "        target_q = np.clip(target_q, -3, 3)\n",
        "        \n",
        "        l = self.model.train_on_batch(input_states, target_q)\n",
        "\n",
        "        return l\n",
        "\n",
        "    def save(self,name_weights='model.h5',name_model='model.json'):\n",
        "        self.model.save_weights(name_weights, overwrite=True)\n",
        "        with open(name_model, \"w\") as outfile:\n",
        "            json.dump(self.model.to_json(), outfile)\n",
        "            \n",
        "    def load(self,name_weights='model.h5',name_model='model.json'):\n",
        "        with open(name_model, \"r\") as jfile:\n",
        "            model = model_from_json(json.load(jfile))\n",
        "        model.load_weights(name_weights)\n",
        "        model.compile(\"sgd\", \"mse\")\n",
        "        self.model = model\n",
        "\n",
        "            \n",
        "class DQN_FC(DQN):\n",
        "    def __init__(self, *args, lr=0.1,**kwargs):\n",
        "        super(DQN_FC, self).__init__( *args,**kwargs)\n",
        "\n",
        "        ####### FILL IN\n",
        "        # NN Model made of 3 fully connected layers\n",
        "        model = Sequential()\n",
        "        model.add(Flatten())\n",
        "        model.add(Dense(32))\n",
        "        model.add(BatchNormalization())\n",
        "        model.add(Activation('relu'))\n",
        "        model.add(Dropout(.2))\n",
        "        model.add(Dense(16))\n",
        "        model.add(BatchNormalization())\n",
        "        model.add(Activation('relu'))\n",
        "        model.add(Dropout(.2))\n",
        "        model.add(Dense(self.n_action))\n",
        "        model.compile(adam(lr=lr), \"mse\")\n",
        "        \n",
        "        self.model = model"
      ],
      "execution_count": 0,
      "outputs": []
    },
    {
      "cell_type": "code",
      "metadata": {
        "id": "32faqxTkRDYe",
        "colab_type": "code",
        "outputId": "c69fed84-8a1f-438a-ed22-4e2aee4f5834",
        "colab": {
          "base_uri": "https://localhost:8080/",
          "height": 945
        }
      },
      "source": [
        "epochs_train = 250\n",
        "env = Environment(grid_size=size, max_time=T, temperature=0.3)\n",
        "agent = DQN_FC(size, lr=.0005, epsilon = 0.1, memory_size=5000, batch_size = 64)\n",
        "train(agent, env, epochs_train, prefix='fc_train')\n",
        "#HTML(display_videos('fc_train10.mp4'))"
      ],
      "execution_count": 51,
      "outputs": [
        {
          "output_type": "stream",
          "text": [
            "Epoch 000/250 | Loss 0.4188 | Win/lose count 8.0/6.0 (2.0)\n",
            "Epoch 005/250 | Loss 0.0609 | Win/lose count 4.0/2.0 (2.0)\n",
            "Epoch 010/250 | Loss 0.0166 | Win/lose count 6.5/11.0 (-4.5)\n",
            "Epoch 015/250 | Loss 0.0150 | Win/lose count 2.5/2.0 (0.5)\n",
            "Epoch 020/250 | Loss 0.0065 | Win/lose count 4.5/2.0 (2.5)\n",
            "Epoch 025/250 | Loss 0.0081 | Win/lose count 9.5/6.0 (3.5)\n",
            "Epoch 030/250 | Loss 0.0015 | Win/lose count 3.0/4.0 (-1.0)\n",
            "Epoch 035/250 | Loss 0.0104 | Win/lose count 4.5/0 (4.5)\n",
            "Epoch 040/250 | Loss 0.0112 | Win/lose count 7.5/5.0 (2.5)\n",
            "Epoch 045/250 | Loss 0.0092 | Win/lose count 5.0/6.0 (-1.0)\n",
            "Epoch 050/250 | Loss 0.0140 | Win/lose count 4.5/4.0 (0.5)\n",
            "Epoch 055/250 | Loss 0.0092 | Win/lose count 7.5/3.0 (4.5)\n",
            "Epoch 060/250 | Loss 0.0049 | Win/lose count 6.5/3.0 (3.5)\n",
            "Epoch 065/250 | Loss 0.0167 | Win/lose count 5.5/4.0 (1.5)\n",
            "Epoch 070/250 | Loss 0.0091 | Win/lose count 11.5/5.0 (6.5)\n",
            "Epoch 075/250 | Loss 0.0139 | Win/lose count 10.5/5.0 (5.5)\n",
            "Epoch 080/250 | Loss 0.0147 | Win/lose count 9.5/5.0 (4.5)\n",
            "Epoch 085/250 | Loss 0.0064 | Win/lose count 6.5/4.0 (2.5)\n",
            "Epoch 090/250 | Loss 0.0144 | Win/lose count 11.0/4.0 (7.0)\n",
            "Epoch 095/250 | Loss 0.0021 | Win/lose count 8.0/4.0 (4.0)\n",
            "Epoch 100/250 | Loss 0.0078 | Win/lose count 5.5/3.0 (2.5)\n",
            "Epoch 105/250 | Loss 0.0109 | Win/lose count 10.0/7.0 (3.0)\n",
            "Epoch 110/250 | Loss 0.0027 | Win/lose count 9.5/2.0 (7.5)\n",
            "Epoch 115/250 | Loss 0.0122 | Win/lose count 8.0/3.0 (5.0)\n",
            "Epoch 120/250 | Loss 0.0113 | Win/lose count 6.0/1.0 (5.0)\n",
            "Epoch 125/250 | Loss 0.0180 | Win/lose count 12.5/3.0 (9.5)\n",
            "Epoch 130/250 | Loss 0.0118 | Win/lose count 21.5/7.0 (14.5)\n",
            "Epoch 135/250 | Loss 0.0152 | Win/lose count 18.0/6.0 (12.0)\n",
            "Epoch 140/250 | Loss 0.0148 | Win/lose count 16.0/8.0 (8.0)\n",
            "Epoch 145/250 | Loss 0.0122 | Win/lose count 7.0/4.0 (3.0)\n",
            "Epoch 150/250 | Loss 0.0080 | Win/lose count 7.0/3.0 (4.0)\n",
            "Epoch 155/250 | Loss 0.0085 | Win/lose count 12.5/2.0 (10.5)\n",
            "Epoch 160/250 | Loss 0.0127 | Win/lose count 19.0/6.0 (13.0)\n",
            "Epoch 165/250 | Loss 0.0229 | Win/lose count 13.0/8.0 (5.0)\n",
            "Epoch 170/250 | Loss 0.0116 | Win/lose count 6.5/4.0 (2.5)\n",
            "Epoch 175/250 | Loss 0.0270 | Win/lose count 23.0/10.0 (13.0)\n",
            "Epoch 180/250 | Loss 0.0079 | Win/lose count 19.0/6.0 (13.0)\n",
            "Epoch 185/250 | Loss 0.0187 | Win/lose count 7.5/6.0 (1.5)\n",
            "Epoch 190/250 | Loss 0.0214 | Win/lose count 2.0/0 (2.0)\n",
            "Epoch 195/250 | Loss 0.0215 | Win/lose count 10.0/1.0 (9.0)\n",
            "Epoch 200/250 | Loss 0.0187 | Win/lose count 22.0/7.0 (15.0)\n",
            "Epoch 205/250 | Loss 0.0104 | Win/lose count 21.0/7.0 (14.0)\n",
            "Epoch 210/250 | Loss 0.0102 | Win/lose count 6.0/3.0 (3.0)\n",
            "Epoch 215/250 | Loss 0.0185 | Win/lose count 14.5/5.0 (9.5)\n",
            "Epoch 220/250 | Loss 0.0151 | Win/lose count 12.5/7.0 (5.5)\n",
            "Epoch 225/250 | Loss 0.0174 | Win/lose count 17.5/9.0 (8.5)\n",
            "Epoch 230/250 | Loss 0.0164 | Win/lose count 26.5/4.0 (22.5)\n",
            "Epoch 235/250 | Loss 0.0288 | Win/lose count 17.5/2.0 (15.5)\n",
            "Epoch 240/250 | Loss 0.0093 | Win/lose count 18.5/11.0 (7.5)\n",
            "Epoch 245/250 | Loss 0.0144 | Win/lose count 9.5/6.0 (3.5)\n"
          ],
          "name": "stdout"
        }
      ]
    },
    {
      "cell_type": "markdown",
      "metadata": {
        "id": "a70UL9ZqRDYi",
        "colab_type": "text"
      },
      "source": [
        "***\n",
        "***\n",
        "__Question 8__ Implement the DQN training algorithm using a CNN (for example, 2 convolutional layers and one final fully connected layer)."
      ]
    },
    {
      "cell_type": "code",
      "metadata": {
        "id": "6x6u4El8RDYj",
        "colab_type": "code",
        "colab": {}
      },
      "source": [
        "class DQN_CNN(DQN):\n",
        "    def __init__(self, *args,lr=0.1,**kwargs):\n",
        "        super(DQN_CNN, self).__init__(*args,**kwargs)\n",
        "\n",
        "        ###### FILL IN\n",
        "        # Two fully convolutional layers and 2 fully connected layers\n",
        "\n",
        "        model = Sequential()\n",
        "        \n",
        "        model.add(Conv2D(16, 3, padding=\"same\"))\n",
        "        model.add(BatchNormalization())\n",
        "        model.add(Activation('relu'))\n",
        "        model.add(AveragePooling2D((2, 2), padding=\"same\"))\n",
        "        \n",
        "        model.add(Conv2D(32, 3, padding=\"same\"))\n",
        "        model.add(BatchNormalization())\n",
        "        model.add(Activation('relu'))\n",
        "        model.add(MaxPooling2D((2, 2), padding=\"same\"))\n",
        "        \n",
        "        model.add(Flatten())\n",
        "        model.add(Dropout(.2))\n",
        "        model.add(Dense(32))\n",
        "        model.add(BatchNormalization())\n",
        "        model.add(Activation('relu'))\n",
        "        model.add(Dropout(.2))\n",
        "        model.add(Dense(self.n_action))\n",
        "        \n",
        "        model.compile(adam(lr=lr), \"mse\")\n",
        "        \n",
        "        self.model = model"
      ],
      "execution_count": 0,
      "outputs": []
    },
    {
      "cell_type": "code",
      "metadata": {
        "id": "FVo3jgEURDYm",
        "colab_type": "code",
        "outputId": "21ed049a-2e60-4474-d530-a3c3c2ec56ce",
        "colab": {
          "base_uri": "https://localhost:8080/",
          "height": 945
        }
      },
      "source": [
        "epochs_train = 250\n",
        "env = Environment(grid_size=size, max_time=T, temperature=0.3)\n",
        "agent = DQN_CNN(size, lr=.0005, epsilon = 0.1, memory_size=5000, batch_size = 64)\n",
        "train(agent, env,epochs_train, prefix='cnn_train')\n",
        "#HTML(display_videos('cnn_train10.mp4'))"
      ],
      "execution_count": 53,
      "outputs": [
        {
          "output_type": "stream",
          "text": [
            "Epoch 000/250 | Loss 0.2094 | Win/lose count 4.0/7.0 (-3.0)\n",
            "Epoch 005/250 | Loss 0.0308 | Win/lose count 4.5/4.0 (0.5)\n",
            "Epoch 010/250 | Loss 0.0095 | Win/lose count 2.0/1.0 (1.0)\n",
            "Epoch 015/250 | Loss 0.0075 | Win/lose count 3.0/2.0 (1.0)\n",
            "Epoch 020/250 | Loss 0.0025 | Win/lose count 3.0/1.0 (2.0)\n",
            "Epoch 025/250 | Loss 0.0082 | Win/lose count 8.0/4.0 (4.0)\n",
            "Epoch 030/250 | Loss 0.0040 | Win/lose count 3.0/3.0 (0.0)\n",
            "Epoch 035/250 | Loss 0.0009 | Win/lose count 12.0/6.0 (6.0)\n",
            "Epoch 040/250 | Loss 0.0060 | Win/lose count 8.5/1.0 (7.5)\n",
            "Epoch 045/250 | Loss 0.1007 | Win/lose count 7.5/5.0 (2.5)\n",
            "Epoch 050/250 | Loss 0.0071 | Win/lose count 6.5/8.0 (-1.5)\n",
            "Epoch 055/250 | Loss 0.0068 | Win/lose count 3.5/3.0 (0.5)\n",
            "Epoch 060/250 | Loss 0.0128 | Win/lose count 5.5/1.0 (4.5)\n",
            "Epoch 065/250 | Loss 0.0050 | Win/lose count 7.0/1.0 (6.0)\n",
            "Epoch 070/250 | Loss 0.0075 | Win/lose count 3.5/1.0 (2.5)\n",
            "Epoch 075/250 | Loss 0.0142 | Win/lose count 4.0/2.0 (2.0)\n",
            "Epoch 080/250 | Loss 0.0051 | Win/lose count 10.0/3.0 (7.0)\n",
            "Epoch 085/250 | Loss 0.0131 | Win/lose count 6.5/3.0 (3.5)\n",
            "Epoch 090/250 | Loss 0.0104 | Win/lose count 10.0/8.0 (2.0)\n",
            "Epoch 095/250 | Loss 0.1873 | Win/lose count 7.0/4.0 (3.0)\n",
            "Epoch 100/250 | Loss 0.0285 | Win/lose count 7.0/13.0 (-6.0)\n",
            "Epoch 105/250 | Loss 0.0062 | Win/lose count 9.0/10.0 (-1.0)\n",
            "Epoch 110/250 | Loss 0.0088 | Win/lose count 5.0/2.0 (3.0)\n",
            "Epoch 115/250 | Loss 0.0128 | Win/lose count 11.0/6.0 (5.0)\n",
            "Epoch 120/250 | Loss 0.0057 | Win/lose count 11.0/6.0 (5.0)\n",
            "Epoch 125/250 | Loss 0.0060 | Win/lose count 5.5/2.0 (3.5)\n",
            "Epoch 130/250 | Loss 0.0060 | Win/lose count 10.0/4.0 (6.0)\n",
            "Epoch 135/250 | Loss 0.0207 | Win/lose count 23.5/7.0 (16.5)\n",
            "Epoch 140/250 | Loss 0.0209 | Win/lose count 18.0/5.0 (13.0)\n",
            "Epoch 145/250 | Loss 0.0090 | Win/lose count 21.0/4.0 (17.0)\n",
            "Epoch 150/250 | Loss 0.0102 | Win/lose count 18.5/9.0 (9.5)\n",
            "Epoch 155/250 | Loss 0.0223 | Win/lose count 17.5/4.0 (13.5)\n",
            "Epoch 160/250 | Loss 0.0211 | Win/lose count 7.0/4.0 (3.0)\n",
            "Epoch 165/250 | Loss 0.0176 | Win/lose count 16.5/5.0 (11.5)\n",
            "Epoch 170/250 | Loss 0.0223 | Win/lose count 9.0/5.0 (4.0)\n",
            "Epoch 175/250 | Loss 0.0241 | Win/lose count 24.0/4.0 (20.0)\n",
            "Epoch 180/250 | Loss 0.0245 | Win/lose count 13.0/5.0 (8.0)\n",
            "Epoch 185/250 | Loss 0.0280 | Win/lose count 13.5/1.0 (12.5)\n",
            "Epoch 190/250 | Loss 0.0290 | Win/lose count 20.0/3.0 (17.0)\n",
            "Epoch 195/250 | Loss 0.0242 | Win/lose count 15.0/5.0 (10.0)\n",
            "Epoch 200/250 | Loss 0.0232 | Win/lose count 12.5/5.0 (7.5)\n",
            "Epoch 205/250 | Loss 0.0265 | Win/lose count 22.0/5.0 (17.0)\n",
            "Epoch 210/250 | Loss 0.0390 | Win/lose count 13.0/4.0 (9.0)\n",
            "Epoch 215/250 | Loss 0.0264 | Win/lose count 4.5/0 (4.5)\n",
            "Epoch 220/250 | Loss 0.0262 | Win/lose count 24.0/6.0 (18.0)\n",
            "Epoch 225/250 | Loss 0.0233 | Win/lose count 23.0/6.0 (17.0)\n",
            "Epoch 230/250 | Loss 0.0148 | Win/lose count 21.5/12.0 (9.5)\n",
            "Epoch 235/250 | Loss 0.0174 | Win/lose count 22.5/9.0 (13.5)\n",
            "Epoch 240/250 | Loss 0.0148 | Win/lose count 15.5/8.0 (7.5)\n",
            "Epoch 245/250 | Loss 0.0165 | Win/lose count 13.5/9.0 (4.5)\n"
          ],
          "name": "stdout"
        }
      ]
    },
    {
      "cell_type": "markdown",
      "metadata": {
        "id": "N83eWDaoRDYp",
        "colab_type": "text"
      },
      "source": [
        "***\n",
        "***\n",
        "__Question 9__ Test both algorithms and compare their performances. Which issue(s) do you observe? Observe also different behaviors by changing the temperature."
      ]
    },
    {
      "cell_type": "code",
      "metadata": {
        "id": "IytG0GMyRDYq",
        "colab_type": "code",
        "outputId": "00a4401e-6cb9-4875-d0c5-799c9cb4bfcf",
        "colab": {
          "base_uri": "https://localhost:8080/",
          "height": 1000
        }
      },
      "source": [
        "env = Environment(grid_size=size, max_time=T, temperature=0.3)\n",
        "\n",
        "agent_cnn = DQN_CNN(size, lr=.1, epsilon = 0.1, memory_size=5000, batch_size = 64)\n",
        "agent_cnn.load(name_weights='cnn_trainmodel.h5',name_model='cnn_trainmodel.json')\n",
        "print('Test of the CNN')\n",
        "test(agent_cnn, env, epochs_test, prefix='cnn_test')\n",
        "\n",
        "agent_fc = DQN_FC(size, lr=.1, epsilon = 0.1, memory_size=5000, batch_size = 64)\n",
        "agent_cnn.load(name_weights='fc_trainmodel.h5', name_model='fc_trainmodel.json')\n",
        "print('Test of the FC')\n",
        "test(agent_fc, env, epochs_test, prefix='fc_test')"
      ],
      "execution_count": 54,
      "outputs": [
        {
          "output_type": "stream",
          "text": [
            "Test of the CNN\n",
            "Win/lose count 7.0/0. Average score (7.0)\n",
            "Win/lose count 4.5/0. Average score (5.75)\n",
            "Win/lose count 1.0/0. Average score (4.166666666666667)\n",
            "Win/lose count 5.5/0. Average score (4.5)\n",
            "Win/lose count 15.0/1.0. Average score (6.4)\n",
            "Win/lose count 14.5/0. Average score (7.75)\n",
            "Win/lose count 8.5/0. Average score (7.857142857142857)\n",
            "Win/lose count 0.5/0. Average score (6.9375)\n",
            "Win/lose count 4.0/0. Average score (6.611111111111111)\n",
            "Win/lose count 7.0/2.0. Average score (6.45)\n",
            "Win/lose count 5.5/1.0. Average score (6.2727272727272725)\n",
            "Win/lose count 0/0. Average score (5.75)\n",
            "Win/lose count 1.0/0. Average score (5.384615384615385)\n",
            "Win/lose count 4.5/0. Average score (5.321428571428571)\n",
            "Win/lose count 0.5/0. Average score (5.0)\n",
            "Win/lose count 7.0/0. Average score (5.125)\n",
            "Win/lose count 2.5/0. Average score (4.970588235294118)\n",
            "Win/lose count 12.5/1.0. Average score (5.333333333333333)\n",
            "Win/lose count 5.5/0. Average score (5.342105263157895)\n",
            "Win/lose count 8.5/1.0. Average score (5.45)\n",
            "Win/lose count 1.5/0. Average score (5.261904761904762)\n",
            "Win/lose count 3.0/2.0. Average score (5.068181818181818)\n",
            "Win/lose count 16.5/1.0. Average score (5.521739130434782)\n",
            "Win/lose count 10.5/1.0. Average score (5.6875)\n",
            "Win/lose count 6.5/2.0. Average score (5.64)\n",
            "Win/lose count 24.0/1.0. Average score (6.3076923076923075)\n",
            "Win/lose count 2.0/0. Average score (6.148148148148148)\n",
            "Win/lose count 10.0/3.0. Average score (6.178571428571429)\n",
            "Win/lose count 15.0/0. Average score (6.482758620689655)\n",
            "Win/lose count 1.0/0. Average score (6.3)\n",
            "Win/lose count 12.0/2.0. Average score (6.419354838709677)\n",
            "Win/lose count 3.0/1.0. Average score (6.28125)\n",
            "Win/lose count 13.0/0. Average score (6.484848484848484)\n",
            "Win/lose count 5.0/0. Average score (6.4411764705882355)\n",
            "Win/lose count 13.0/0. Average score (6.628571428571429)\n",
            "Win/lose count 0.5/0. Average score (6.458333333333333)\n",
            "Win/lose count 7.0/1.0. Average score (6.445945945945946)\n",
            "Win/lose count 3.5/0. Average score (6.368421052631579)\n",
            "Win/lose count 4.5/0. Average score (6.32051282051282)\n",
            "Win/lose count 5.0/0. Average score (6.2875)\n",
            "Win/lose count 9.5/3.0. Average score (6.2926829268292686)\n",
            "Win/lose count 4.0/1.0. Average score (6.214285714285714)\n",
            "Win/lose count 3.0/0. Average score (6.1395348837209305)\n",
            "Win/lose count 7.5/1.0. Average score (6.1477272727272725)\n",
            "Win/lose count 3.5/1.0. Average score (6.066666666666666)\n",
            "Win/lose count 0.5/0. Average score (5.945652173913044)\n",
            "Win/lose count 3.5/1.0. Average score (5.872340425531915)\n",
            "Win/lose count 3.5/1.0. Average score (5.802083333333333)\n",
            "Win/lose count 4.5/2.0. Average score (5.73469387755102)\n",
            "Win/lose count 8.5/3.0. Average score (5.73)\n",
            "Final score: 5.73\n",
            "Test of the FC\n",
            "Win/lose count 1.0/2.0. Average score (-1.0)\n",
            "Win/lose count 0/0. Average score (-0.5)\n",
            "Win/lose count 1.0/2.0. Average score (-0.6666666666666666)\n",
            "Win/lose count 0.5/0. Average score (-0.375)\n",
            "Win/lose count 0.5/0. Average score (-0.2)\n",
            "Win/lose count 1.0/0. Average score (0.0)\n",
            "Win/lose count 1.5/3.0. Average score (-0.21428571428571427)\n",
            "Win/lose count 0.5/2.0. Average score (-0.375)\n",
            "Win/lose count 0/0. Average score (-0.3333333333333333)\n",
            "Win/lose count 1.0/0. Average score (-0.2)\n",
            "Win/lose count 0.5/2.0. Average score (-0.3181818181818182)\n",
            "Win/lose count 0.5/4.0. Average score (-0.5833333333333334)\n",
            "Win/lose count 0.5/1.0. Average score (-0.5769230769230769)\n",
            "Win/lose count 2.0/3.0. Average score (-0.6071428571428571)\n",
            "Win/lose count 0/0. Average score (-0.5666666666666667)\n",
            "Win/lose count 0/0. Average score (-0.53125)\n",
            "Win/lose count 1.0/0. Average score (-0.4411764705882353)\n",
            "Win/lose count 0.5/1.0. Average score (-0.4444444444444444)\n",
            "Win/lose count 3.0/1.0. Average score (-0.3157894736842105)\n",
            "Win/lose count 1.0/1.0. Average score (-0.3)\n",
            "Win/lose count 1.0/0. Average score (-0.23809523809523808)\n",
            "Win/lose count 1.5/0. Average score (-0.1590909090909091)\n",
            "Win/lose count 0.5/0. Average score (-0.13043478260869565)\n",
            "Win/lose count 1.0/0. Average score (-0.08333333333333333)\n",
            "Win/lose count 4.0/4.0. Average score (-0.08)\n",
            "Win/lose count 0/0. Average score (-0.07692307692307693)\n",
            "Win/lose count 1.5/1.0. Average score (-0.05555555555555555)\n",
            "Win/lose count 0.5/1.0. Average score (-0.07142857142857142)\n",
            "Win/lose count 0/0. Average score (-0.06896551724137931)\n",
            "Win/lose count 1.5/3.0. Average score (-0.11666666666666667)\n",
            "Win/lose count 1.0/4.0. Average score (-0.20967741935483872)\n",
            "Win/lose count 1.0/2.0. Average score (-0.234375)\n",
            "Win/lose count 3.5/2.0. Average score (-0.18181818181818182)\n",
            "Win/lose count 1.0/0. Average score (-0.14705882352941177)\n",
            "Win/lose count 2.0/4.0. Average score (-0.2)\n",
            "Win/lose count 1.5/2.0. Average score (-0.20833333333333334)\n",
            "Win/lose count 0.5/4.0. Average score (-0.2972972972972973)\n",
            "Win/lose count 2.5/5.0. Average score (-0.35526315789473684)\n",
            "Win/lose count 2.0/0. Average score (-0.2948717948717949)\n",
            "Win/lose count 3.5/4.0. Average score (-0.3)\n",
            "Win/lose count 1.5/2.0. Average score (-0.3048780487804878)\n",
            "Win/lose count 0.5/5.0. Average score (-0.40476190476190477)\n",
            "Win/lose count 0.5/1.0. Average score (-0.4069767441860465)\n",
            "Win/lose count 0/1.0. Average score (-0.42045454545454547)\n",
            "Win/lose count 0/1.0. Average score (-0.43333333333333335)\n",
            "Win/lose count 0.5/1.0. Average score (-0.43478260869565216)\n",
            "Win/lose count 1.5/3.0. Average score (-0.4574468085106383)\n",
            "Win/lose count 1.5/1.0. Average score (-0.4375)\n",
            "Win/lose count 0.5/0. Average score (-0.41836734693877553)\n",
            "Win/lose count 0.5/0. Average score (-0.4)\n",
            "Final score: -0.4\n"
          ],
          "name": "stdout"
        }
      ]
    },
    {
      "cell_type": "code",
      "metadata": {
        "id": "iLAV5SNgRDYs",
        "colab_type": "code",
        "colab": {}
      },
      "source": [
        "#HTML(display_videos('cnn_test10.mp4'))"
      ],
      "execution_count": 0,
      "outputs": []
    },
    {
      "cell_type": "code",
      "metadata": {
        "id": "IDBU7IQBRDYv",
        "colab_type": "code",
        "colab": {}
      },
      "source": [
        "#HTML(display_videos('fc_test10.mp4'))"
      ],
      "execution_count": 0,
      "outputs": []
    },
    {
      "cell_type": "markdown",
      "metadata": {
        "id": "i4XX7e0ARDYx",
        "colab_type": "text"
      },
      "source": [
        "### Analysis\n",
        "\n",
        "One behaviour I observed is that the mouse would stop exploring when there is no cheese around it, and keep moving backward and forward. Then as the memory buffer has a limited size and as I initially used *first in first out* method of queuing, it would mostly contain examples whith empty cells and the model learns nothing new. That's why I decided to increase the buffer's size and to randomly delete its elements when it is full in order to keep more different examples in memory.\n",
        "\n",
        "Both algorithms would oscillate a lot during training. As the exploration is not optimal (only 10\\% of the moves try to explore) the model doesn't learn efficiently. With a higher temperature it can learn more as it has more information, but with a low temperature it would easily get stuck.\n",
        "\n",
        "In the end the convolutional neural networks is better as it is more suited for this type of data: it can detect a patern in the neighborhood of the mouse rather than a exact structure of the neighborhood (as is it the case with a fully connected layer)."
      ]
    },
    {
      "cell_type": "markdown",
      "metadata": {
        "id": "Ao_umJz4RDYy",
        "colab_type": "text"
      },
      "source": [
        "***\n",
        "\n",
        "The algorithm tends to not explore the map which can be an issue. We propose two ideas in order to encourage exploration:\n",
        "1. Incorporating a decreasing $\\epsilon$-greedy exploration. You can use the method ```set_epsilon```\n",
        "2. Append via the environment a new state that describes if a cell has been visited or not\n",
        "\n",
        "***\n",
        "__Question 10__ Design a new ```train_explore``` function and environment class ```EnvironmentExploring``` to tackle the issue of exploration.\n",
        "\n"
      ]
    },
    {
      "cell_type": "code",
      "metadata": {
        "id": "KTrOn1viVKrJ",
        "colab_type": "code",
        "colab": {}
      },
      "source": [
        "def train_explore(agent, env, epoch, prefix=''):\n",
        "    # Number of won games\n",
        "    score = 0\n",
        "    loss = 0\n",
        "\n",
        "    # Decreasing epsilon\n",
        "    # Linear decay for 3/4 of the epochs\n",
        "    # last 1/4 epochs with epsilon = .1\n",
        "    epsilons = np.concatenate((np.linspace(1, .1, 3*(epoch//4)), .1*np.ones(epoch - 3*(epoch//4))))\n",
        "\n",
        "    for e in range(epoch):\n",
        "        # At each epoch, we restart to a fresh game and get the initial state\n",
        "        state = env.reset()\n",
        "        # This assumes that the games will terminate\n",
        "        game_over = False\n",
        "\n",
        "        #set epsilon\n",
        "        agent.set_epsilon(epsilons[e])\n",
        "\n",
        "        win = 0\n",
        "        lose = 0\n",
        "\n",
        "        while not game_over:\n",
        "            # The agent performs an action\n",
        "            action = agent.act(state)\n",
        "\n",
        "            # Apply an action to the environment, get the next state, the reward\n",
        "            # and if the games end\n",
        "            prev_state = state\n",
        "            state, reward, game_over = env.act(action, train=True)\n",
        "\n",
        "            # Update the counters\n",
        "            if reward > 0:\n",
        "                win = win + reward\n",
        "            if reward < 0:\n",
        "                lose = lose - reward\n",
        "\n",
        "            # Apply the reinforcement strategy\n",
        "            loss = agent.reinforce(prev_state, state,  action, reward, game_over)\n",
        "\n",
        "        # Save as a mp4\n",
        "        if e % 10 == 0:\n",
        "            env.draw(prefix+str(e))\n",
        "\n",
        "        # Update stats\n",
        "        score += win-lose\n",
        "        \n",
        "        if e % 5 == 0:\n",
        "            print(\"Epoch {:03d}/{:03d} | Loss {:.4f} | Win/lose count {}/{:.1f} ({:.1f})\"\n",
        "                  .format(e, epoch, loss, win, lose, win-lose))\n",
        "        \n",
        "        agent.save(name_weights=prefix+'model.h5',name_model=prefix+'model.json')"
      ],
      "execution_count": 0,
      "outputs": []
    },
    {
      "cell_type": "code",
      "metadata": {
        "id": "vWHrf6l0Y2r9",
        "colab_type": "code",
        "colab": {}
      },
      "source": [
        "class EnvironmentExploring(Environment):\n",
        "    def __init__(self, grid_size=10, max_time=500, temperature=0.1, malus_pos=.1):\n",
        "        super(EnvironmentExploring, self).__init__(grid_size=grid_size, max_time=max_time, temperature=temperature)\n",
        "\n",
        "        self.malus_pos = malus_pos # malus of already visited cells\n",
        "        self.malus_position = np.zeros((grid_size,grid_size)) # grid of already visited cells\n",
        "    \n",
        "    def reset(self):\n",
        "        \"\"\"This function resets the game and returns the initial state\"\"\"\n",
        "\n",
        "        self.x = np.random.randint(3, self.grid_size-3, size=1)[0]\n",
        "        self.y = np.random.randint(3, self.grid_size-3, size=1)[0]\n",
        "\n",
        "        # reset malus and set its value where the mouse start\n",
        "        self.malus_position = np.zeros((self.grid_size, self.grid_size))\n",
        "        self.malus_position[self.x, self.y] = self.malus_pos\n",
        "\n",
        "        bonus = 0.5*np.random.binomial(1,self.temperature,size=self.grid_size**2)\n",
        "        bonus = bonus.reshape(self.grid_size,self.grid_size)\n",
        "\n",
        "        malus = -1.0*np.random.binomial(1,self.temperature,size=self.grid_size**2)\n",
        "        malus = malus.reshape(self.grid_size, self.grid_size)\n",
        "\n",
        "        self.to_draw = np.zeros((self.max_time+2, self.grid_size*self.scale, self.grid_size*self.scale, 3))\n",
        "\n",
        "        malus[bonus>0]=0\n",
        "\n",
        "        self.board = bonus + malus\n",
        "\n",
        "        self.position = np.zeros((self.grid_size, self.grid_size))\n",
        "        self.position[0:2,:]= -1\n",
        "        self.position[:,0:2] = -1\n",
        "        self.position[-2:, :] = -1\n",
        "        self.position[-2:, :] = -1\n",
        "        self.board[self.x,self.y] = 0\n",
        "        self.t = 0\n",
        "\n",
        "        state = np.concatenate((\n",
        "            self.malus_position.reshape(self.grid_size, self.grid_size, 1),\n",
        "            self.board.reshape(self.grid_size, self.grid_size, 1),\n",
        "            self.position.reshape(self.grid_size, self.grid_size, 1)), axis=2)\n",
        "        state = state[self.x - 2:self.x + 3, self.y - 2:self.y + 3, :]\n",
        "\n",
        "        return state\n",
        "\n",
        "    def act(self, action, train=False):\n",
        "        \"\"\"This function returns the new state, reward and decides if the\n",
        "        game ends.\"\"\"\n",
        "\n",
        "        self.get_frame(int(self.t))\n",
        "\n",
        "        self.position = np.zeros((self.grid_size, self.grid_size))\n",
        "\n",
        "        self.position[0:2,:] = -1\n",
        "        self.position[:,0:2] = -1\n",
        "        self.position[-2:, :] = -1\n",
        "        self.position[-2:, :] = -1\n",
        "\n",
        "        self.position[self.x, self.y] = 1\n",
        "        if action == 0:\n",
        "            if self.x == self.grid_size - 3:\n",
        "                self.x = self.x - 1\n",
        "            else:\n",
        "                self.x = self.x + 1\n",
        "        elif action == 1:\n",
        "            if self.x == 2:\n",
        "                self.x = self.x + 1\n",
        "            else:\n",
        "                self.x = self.x - 1\n",
        "        elif action == 2:\n",
        "            if self.y == self.grid_size - 3:\n",
        "                self.y = self.y - 1\n",
        "            else:\n",
        "                self.y = self.y + 1\n",
        "        elif action == 3:\n",
        "            if self.y == 2:\n",
        "                self.y = self.y + 1\n",
        "            else:\n",
        "                self.y = self.y - 1\n",
        "        else:\n",
        "            RuntimeError('Error: action not recognized')\n",
        "\n",
        "        self.t = self.t + 1\n",
        "        reward = self.board[self.x, self.y]\n",
        "        if train: # penalize only during training to have a coherent score at test time\n",
        "            reward -= self.malus_position[self.x, self.y]\n",
        "\n",
        "        self.malus_position[self.x, self.y] = self.malus_pos # upfate malus on visited cell\n",
        "        self.board[self.x, self.y] = 0\n",
        "        game_over = self.t > self.max_time\n",
        "\n",
        "        state = np.concatenate((\n",
        "            self.malus_position.reshape(self.grid_size, self.grid_size, 1),\n",
        "            self.board.reshape(self.grid_size, self.grid_size, 1),\n",
        "            self.position.reshape(self.grid_size, self.grid_size, 1)), axis=2)\n",
        "        state = state[self.x-2:self.x+3,self.y-2:self.y+3,:]\n",
        "\n",
        "        return state, reward, game_over"
      ],
      "execution_count": 0,
      "outputs": []
    },
    {
      "cell_type": "code",
      "metadata": {
        "id": "bYo4kOW0RDY3",
        "colab_type": "code",
        "outputId": "9b2e3e5b-4962-4289-e667-86eaffa8a8bb",
        "colab": {
          "base_uri": "https://localhost:8080/",
          "height": 1000
        }
      },
      "source": [
        "# Training\n",
        "epochs_train = 300\n",
        "env = EnvironmentExploring(grid_size=size, max_time=T, temperature=0.3, malus_pos=.2)\n",
        "agent = DQN_CNN(size, lr=.0004, epsilon=0.1, memory_size=5000, batch_size=64, n_state=3)\n",
        "train_explore(agent, env, epochs_train, prefix='cnn_train_explore')\n",
        "#HTML(display_videos('cnn_train_explore10.mp4'))"
      ],
      "execution_count": 59,
      "outputs": [
        {
          "output_type": "stream",
          "text": [
            "Epoch 000/300 | Loss 0.6767 | Win/lose count 8.5/42.2 (-33.7)\n",
            "Epoch 005/300 | Loss 0.0791 | Win/lose count 9.5/41.6 (-32.1)\n",
            "Epoch 010/300 | Loss 0.0317 | Win/lose count 6.5/43.6 (-37.1)\n",
            "Epoch 015/300 | Loss 0.0355 | Win/lose count 13.0/41.4 (-28.4)\n",
            "Epoch 020/300 | Loss 0.0219 | Win/lose count 13.0/36.0 (-23.0)\n",
            "Epoch 025/300 | Loss 0.0311 | Win/lose count 11.0/45.8 (-34.8)\n",
            "Epoch 030/300 | Loss 0.0238 | Win/lose count 9.5/36.4 (-26.9)\n",
            "Epoch 035/300 | Loss 0.0374 | Win/lose count 11.5/36.0 (-24.5)\n",
            "Epoch 040/300 | Loss 0.0215 | Win/lose count 15.0/36.2 (-21.2)\n",
            "Epoch 045/300 | Loss 0.0188 | Win/lose count 16.0/33.0 (-17.0)\n",
            "Epoch 050/300 | Loss 0.0258 | Win/lose count 14.0/40.0 (-26.0)\n",
            "Epoch 055/300 | Loss 0.0259 | Win/lose count 15.5/35.6 (-20.1)\n",
            "Epoch 060/300 | Loss 0.0648 | Win/lose count 15.0/37.6 (-22.6)\n",
            "Epoch 065/300 | Loss 0.0375 | Win/lose count 14.0/38.6 (-24.6)\n",
            "Epoch 070/300 | Loss 0.0355 | Win/lose count 15.0/41.2 (-26.2)\n",
            "Epoch 075/300 | Loss 0.0352 | Win/lose count 11.0/37.8 (-26.8)\n",
            "Epoch 080/300 | Loss 0.0476 | Win/lose count 21.5/42.4 (-20.9)\n",
            "Epoch 085/300 | Loss 0.0286 | Win/lose count 17.5/35.0 (-17.5)\n",
            "Epoch 090/300 | Loss 0.0459 | Win/lose count 18.5/32.6 (-14.1)\n",
            "Epoch 095/300 | Loss 0.0386 | Win/lose count 12.0/45.2 (-33.2)\n",
            "Epoch 100/300 | Loss 0.0393 | Win/lose count 19.5/27.8 (-8.3)\n",
            "Epoch 105/300 | Loss 0.0447 | Win/lose count 20.5/32.0 (-11.5)\n",
            "Epoch 110/300 | Loss 0.0380 | Win/lose count 11.5/38.2 (-26.7)\n",
            "Epoch 115/300 | Loss 0.1715 | Win/lose count 7.0/43.8 (-36.8)\n",
            "Epoch 120/300 | Loss 0.0450 | Win/lose count 12.5/36.8 (-24.3)\n",
            "Epoch 125/300 | Loss 0.0779 | Win/lose count 15.5/34.6 (-19.1)\n",
            "Epoch 130/300 | Loss 0.0526 | Win/lose count 23.0/30.2 (-7.2)\n",
            "Epoch 135/300 | Loss 0.0498 | Win/lose count 17.5/25.0 (-7.5)\n",
            "Epoch 140/300 | Loss 0.0766 | Win/lose count 17.0/29.4 (-12.4)\n",
            "Epoch 145/300 | Loss 0.0453 | Win/lose count 23.5/30.0 (-6.5)\n",
            "Epoch 150/300 | Loss 0.0543 | Win/lose count 16.0/36.4 (-20.4)\n",
            "Epoch 155/300 | Loss 0.0559 | Win/lose count 20.5/29.4 (-8.9)\n",
            "Epoch 160/300 | Loss 0.0639 | Win/lose count 20.5/31.8 (-11.3)\n",
            "Epoch 165/300 | Loss 0.0409 | Win/lose count 16.5/30.8 (-14.3)\n",
            "Epoch 170/300 | Loss 0.0293 | Win/lose count 19.0/33.8 (-14.8)\n",
            "Epoch 175/300 | Loss 0.0739 | Win/lose count 15.5/30.2 (-14.7)\n",
            "Epoch 180/300 | Loss 0.0670 | Win/lose count 17.0/31.6 (-14.6)\n",
            "Epoch 185/300 | Loss 0.0610 | Win/lose count 20.0/30.0 (-10.0)\n",
            "Epoch 190/300 | Loss 0.0655 | Win/lose count 23.0/31.0 (-8.0)\n",
            "Epoch 195/300 | Loss 0.0330 | Win/lose count 25.5/29.8 (-4.3)\n",
            "Epoch 200/300 | Loss 0.0770 | Win/lose count 19.5/30.4 (-10.9)\n",
            "Epoch 205/300 | Loss 0.1113 | Win/lose count 19.0/31.0 (-12.0)\n",
            "Epoch 210/300 | Loss 0.0849 | Win/lose count 19.5/31.0 (-11.5)\n",
            "Epoch 215/300 | Loss 0.0712 | Win/lose count 15.0/32.8 (-17.8)\n",
            "Epoch 220/300 | Loss 0.0796 | Win/lose count 15.5/29.8 (-14.3)\n",
            "Epoch 225/300 | Loss 0.0866 | Win/lose count 21.5/28.4 (-6.9)\n",
            "Epoch 230/300 | Loss 0.0733 | Win/lose count 11.0/31.4 (-20.4)\n",
            "Epoch 235/300 | Loss 0.0519 | Win/lose count 16.0/25.0 (-9.0)\n",
            "Epoch 240/300 | Loss 0.0815 | Win/lose count 22.0/27.6 (-5.6)\n",
            "Epoch 245/300 | Loss 0.0558 | Win/lose count 21.0/31.2 (-10.2)\n",
            "Epoch 250/300 | Loss 0.0644 | Win/lose count 22.0/30.2 (-8.2)\n",
            "Epoch 255/300 | Loss 0.0534 | Win/lose count 24.5/29.6 (-5.1)\n",
            "Epoch 260/300 | Loss 0.0464 | Win/lose count 20.0/31.6 (-11.6)\n",
            "Epoch 265/300 | Loss 0.0579 | Win/lose count 10.0/37.6 (-27.6)\n",
            "Epoch 270/300 | Loss 0.0759 | Win/lose count 10.5/37.4 (-26.9)\n",
            "Epoch 275/300 | Loss 0.0881 | Win/lose count 21.5/29.8 (-8.3)\n",
            "Epoch 280/300 | Loss 0.0432 | Win/lose count 22.0/24.6 (-2.6)\n",
            "Epoch 285/300 | Loss 0.0636 | Win/lose count 25.0/32.2 (-7.2)\n",
            "Epoch 290/300 | Loss 0.0752 | Win/lose count 22.0/26.8 (-4.8)\n",
            "Epoch 295/300 | Loss 0.0553 | Win/lose count 21.0/30.8 (-9.8)\n"
          ],
          "name": "stdout"
        }
      ]
    },
    {
      "cell_type": "code",
      "metadata": {
        "id": "4xo7Ggc6RDY5",
        "colab_type": "code",
        "outputId": "fdb66793-e21b-4a5d-c3ab-682b069a45a9",
        "colab": {
          "base_uri": "https://localhost:8080/",
          "height": 964
        }
      },
      "source": [
        "# Evaluation\n",
        "test(agent, env, epochs_test, prefix='cnn_test_explore')\n",
        "#HTML(display_videos('cnn_test_explore10.mp4'))"
      ],
      "execution_count": 60,
      "outputs": [
        {
          "output_type": "stream",
          "text": [
            "Win/lose count 14.5/4.0. Average score (10.5)\n",
            "Win/lose count 9.5/4.0. Average score (8.0)\n",
            "Win/lose count 17.0/4.0. Average score (9.666666666666666)\n",
            "Win/lose count 16.5/5.0. Average score (10.125)\n",
            "Win/lose count 14.5/1.0. Average score (10.8)\n",
            "Win/lose count 10.0/2.0. Average score (10.333333333333334)\n",
            "Win/lose count 0.5/0. Average score (8.928571428571429)\n",
            "Win/lose count 12.0/5.0. Average score (8.6875)\n",
            "Win/lose count 13.5/4.0. Average score (8.777777777777779)\n",
            "Win/lose count 16.5/1.0. Average score (9.45)\n",
            "Win/lose count 18.5/7.0. Average score (9.636363636363637)\n",
            "Win/lose count 19.5/4.0. Average score (10.125)\n",
            "Win/lose count 10.5/3.0. Average score (9.923076923076923)\n",
            "Win/lose count 13.5/2.0. Average score (10.035714285714286)\n",
            "Win/lose count 14.0/2.0. Average score (10.166666666666666)\n",
            "Win/lose count 7.5/0. Average score (10.0)\n",
            "Win/lose count 11.0/0. Average score (10.058823529411764)\n",
            "Win/lose count 10.0/3.0. Average score (9.88888888888889)\n",
            "Win/lose count 10.0/0. Average score (9.894736842105264)\n",
            "Win/lose count 9.5/1.0. Average score (9.825)\n",
            "Win/lose count 4.0/1.0. Average score (9.5)\n",
            "Win/lose count 17.0/2.0. Average score (9.75)\n",
            "Win/lose count 14.0/1.0. Average score (9.891304347826088)\n",
            "Win/lose count 11.5/2.0. Average score (9.875)\n",
            "Win/lose count 13.5/4.0. Average score (9.86)\n",
            "Win/lose count 2.0/0. Average score (9.557692307692308)\n",
            "Win/lose count 12.0/0. Average score (9.648148148148149)\n",
            "Win/lose count 12.0/1.0. Average score (9.696428571428571)\n",
            "Win/lose count 12.5/0. Average score (9.793103448275861)\n",
            "Win/lose count 11.0/5.0. Average score (9.666666666666666)\n",
            "Win/lose count 2.5/0. Average score (9.435483870967742)\n",
            "Win/lose count 11.5/7.0. Average score (9.28125)\n",
            "Win/lose count 2.5/0. Average score (9.075757575757576)\n",
            "Win/lose count 8.5/0. Average score (9.058823529411764)\n",
            "Win/lose count 16.5/1.0. Average score (9.242857142857142)\n",
            "Win/lose count 10.0/5.0. Average score (9.125)\n",
            "Win/lose count 2.5/0. Average score (8.945945945945946)\n",
            "Win/lose count 17.5/1.0. Average score (9.144736842105264)\n",
            "Win/lose count 21.5/5.0. Average score (9.333333333333334)\n",
            "Win/lose count 6.0/1.0. Average score (9.225)\n",
            "Win/lose count 21.5/3.0. Average score (9.451219512195122)\n",
            "Win/lose count 15.0/3.0. Average score (9.511904761904763)\n",
            "Win/lose count 21.5/2.0. Average score (9.744186046511627)\n",
            "Win/lose count 13.0/0. Average score (9.818181818181818)\n",
            "Win/lose count 13.0/2.0. Average score (9.844444444444445)\n",
            "Win/lose count 18.0/4.0. Average score (9.934782608695652)\n",
            "Win/lose count 12.5/3.0. Average score (9.925531914893616)\n",
            "Win/lose count 4.5/0. Average score (9.8125)\n",
            "Win/lose count 15.5/7.0. Average score (9.785714285714286)\n",
            "Win/lose count 12.5/3.0. Average score (9.78)\n",
            "Final score: 9.78\n"
          ],
          "name": "stdout"
        }
      ]
    },
    {
      "cell_type": "markdown",
      "metadata": {
        "id": "cELFAJUFT0XX",
        "colab_type": "text"
      },
      "source": [
        "### Analysis\n",
        "\n",
        "Having a high $\\epsilon$ in the beginning allows the model to learn from various situations that it wouldn't have tried by itself.\n",
        "\n",
        "Then adding a malus on already visited cells forces it to explore the board and eat more cheese.\n",
        "\n",
        "We can see that these 2 updates lead to a better cover of the grid and a better score."
      ]
    },
    {
      "cell_type": "markdown",
      "metadata": {
        "id": "aUfbjCbFRDY9",
        "colab_type": "text"
      },
      "source": [
        "***\n",
        "***\n",
        "__BONUS question__ Use the expert DQN from the previous question to generate some winning games. Train a model that mimicks its behavior. Compare the performances."
      ]
    },
    {
      "cell_type": "markdown",
      "metadata": {
        "id": "gwUai9iNRDY9",
        "colab_type": "text"
      },
      "source": [
        ""
      ]
    },
    {
      "cell_type": "markdown",
      "metadata": {
        "id": "VvRFf5jhRDY-",
        "colab_type": "text"
      },
      "source": [
        "***"
      ]
    }
  ]
}
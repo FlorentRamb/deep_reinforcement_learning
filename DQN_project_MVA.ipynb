{
 "cells": [
  {
   "cell_type": "markdown",
   "metadata": {},
   "source": [
    "**You may need to install [OpenCV](https://pypi.python.org/pypi/opencv-python) and [scikit-video](http://www.scikit-video.org/stable/).**"
   ]
  },
  {
   "cell_type": "code",
   "execution_count": 1,
   "metadata": {},
   "outputs": [
    {
     "name": "stderr",
     "output_type": "stream",
     "text": [
      "Using TensorFlow backend.\n"
     ]
    }
   ],
   "source": [
    "import keras\n",
    "import numpy as np\n",
    "import io\n",
    "import base64\n",
    "from IPython.display import HTML\n",
    "import skvideo\n",
    "skvideo.setFFmpegPath('C:/Users/flo-r/ffmpeg-4.2.2-win64-static/bin')\n",
    "import skvideo.io\n",
    "import cv2\n",
    "import json\n",
    "\n",
    "from keras.models import Sequential, model_from_json\n",
    "from keras.layers.core import Dense\n",
    "from keras.optimizers import sgd\n",
    "from keras.layers import Conv2D, MaxPooling2D, Activation, AveragePooling2D, Reshape, BatchNormalization"
   ]
  },
  {
   "cell_type": "markdown",
   "metadata": {},
   "source": [
    "# MiniProject on Deep Reinforcement Learning"
   ]
  },
  {
   "cell_type": "markdown",
   "metadata": {},
   "source": [
    "__Notations__: $E_p$ is the expectation under probability $p$. Please justify each of your answer and widely comment your code."
   ]
  },
  {
   "cell_type": "markdown",
   "metadata": {},
   "source": [
    "# Context"
   ]
  },
  {
   "cell_type": "markdown",
   "metadata": {},
   "source": [
    "In a reinforcement learning algorithm, we modelize each step $t$ as an action $a_t$ obtained from a state $s_t$, i.e. $\\{(a_{t},s_{t})_{t\\leq T}\\}$ having the Markov property. We consider a discount factor $\\gamma \\in [0,1]$ that ensures convergence. The goal is to find among all the policies $\\pi$, one that maximizes the expected reward:\n",
    "\n",
    "\\begin{equation*}\n",
    "R(\\pi)=\\sum_{t\\leq T}E_{p^{\\pi}}[\\gamma^t r(s_{t},a_{t})] \\> ,\n",
    "\\end{equation*}\n",
    "\n",
    "where: \n",
    "\\begin{equation*}p^{\\pi}(a_{0},a_{1},s_{1},...,a_{T},s_{T})=p(a_{0})\\prod_{t=1}^{T}\\pi(a_{t}|s_{t})p(s_{t+1}|s_{t},a_{t}) \\> .\n",
    "\\end{equation*}\n",
    "\n",
    "We note the $Q$-function:\n",
    "\n",
    "\\begin{equation*}Q^\\pi(s,a)=E_{p^{\\pi}}[\\sum_{t\\leq T}\\gamma^{t}r(s_{t},a_{t})|s_{0}=s,a_{0}=a] \\> .\n",
    "\\end{equation*}\n",
    "\n",
    "Thus, the optimal Q function is:\n",
    "\\begin{equation*}\n",
    "Q^*(s,a)=\\max_{\\pi}Q^\\pi(s,a) \\> .\n",
    "\\end{equation*}\n",
    "\n",
    "In this project, we will apply the deep reinforcement learning techniques to a simple game: an agent will have to learn from scratch a policy that will permit it maximizing a reward."
   ]
  },
  {
   "cell_type": "markdown",
   "metadata": {},
   "source": [
    "## The environment, the agent and the game"
   ]
  },
  {
   "cell_type": "markdown",
   "metadata": {},
   "source": [
    "### The environment"
   ]
  },
  {
   "cell_type": "markdown",
   "metadata": {},
   "source": [
    "```Environment``` is an abstract class that represents the states, rewards, and actions to obtain the new state."
   ]
  },
  {
   "cell_type": "code",
   "execution_count": 2,
   "metadata": {},
   "outputs": [],
   "source": [
    "class Environment(object):\n",
    "    def __init__(self):\n",
    "        pass\n",
    "\n",
    "    def act(self, act):\n",
    "        \"\"\"\n",
    "        One can act on the environment and obtain its reaction:\n",
    "        - the new state\n",
    "        - the reward of the new state\n",
    "        - should we continue the game?\n",
    "\n",
    "        :return: state, reward, game_over\n",
    "        \"\"\"\n",
    "        pass\n",
    "\n",
    "\n",
    "    def reset(self):\n",
    "        \"\"\"\n",
    "        Reinitialize the environment to a random state and returns\n",
    "        the original state\n",
    "\n",
    "        :return: state\n",
    "        \"\"\"\n",
    "        pass\n",
    "    \n",
    "    def draw(self):\n",
    "        \"\"\"\n",
    "        Visualize in the console or graphically the current state\n",
    "        \"\"\"\n",
    "        pass"
   ]
  },
  {
   "cell_type": "markdown",
   "metadata": {},
   "source": [
    "The method ```act``` allows to act on the environment at a given state $s_t$ (stored internally), via action $a_t$. The method will return the new state $s_{t+1}$, the reward $r(s_{t},a_{t})$ and determines if $t\\leq T$ (*game_over*).\n",
    "\n",
    "The method ```reset``` simply reinitializes the environment to a random state $s_0$.\n",
    "\n",
    "The method ```draw``` displays the current state $s_t$ (this is useful to check the behavior of the Agent).\n",
    "\n",
    "We modelize $s_t$ as a tensor, while $a_t$ is an integer."
   ]
  },
  {
   "cell_type": "markdown",
   "metadata": {},
   "source": [
    "### The Agent"
   ]
  },
  {
   "cell_type": "markdown",
   "metadata": {},
   "source": [
    "The goal of the ```Agent``` is to interact with the ```Environment``` by proposing actions $a_t$ obtained from a given state $s_t$ to attempt to maximize its __reward__ $r(s_t,a_t)$. We propose the following abstract class:"
   ]
  },
  {
   "cell_type": "code",
   "execution_count": 3,
   "metadata": {},
   "outputs": [],
   "source": [
    "class Agent(object):\n",
    "    def __init__(self, epsilon=0.1, n_action=4):\n",
    "        self.epsilon = epsilon\n",
    "        self.n_action = n_action\n",
    "    \n",
    "    def set_epsilon(self,e):\n",
    "        self.epsilon = e\n",
    "\n",
    "    def act(self,s,train=True):\n",
    "        \"\"\" This function should return the next action to do:\n",
    "        an integer between 0 and 4 (not included) with a random exploration of epsilon\"\"\"\n",
    "        if train:\n",
    "            if np.random.rand() <= self.epsilon:\n",
    "                a = np.random.randint(0, self.n_action, size=1)[0]\n",
    "            else:\n",
    "                a = self.learned_act(s)\n",
    "        else: # in some cases, this can improve the performance.. remove it if poor performances\n",
    "            a = self.learned_act(s)\n",
    "\n",
    "        return a\n",
    "\n",
    "    def learned_act(self,s):\n",
    "        \"\"\" Act via the policy of the agent, from a given state s\n",
    "        it proposes an action a\"\"\"\n",
    "        pass\n",
    "\n",
    "    def reinforce(self, s, n_s, a, r, game_over_):\n",
    "        \"\"\" This function is the core of the learning algorithm. \n",
    "        It takes as an input the current state s_, the next state n_s_\n",
    "        the action a_ used to move from s_ to n_s_ and the reward r_.\n",
    "        \n",
    "        Its goal is to learn a policy.\n",
    "        \"\"\"\n",
    "        pass\n",
    "\n",
    "    def save(self):\n",
    "        \"\"\" This function returns basic stats if applicable: the\n",
    "        loss and/or the model\"\"\"\n",
    "        pass\n",
    "\n",
    "    def load(self):\n",
    "        \"\"\" This function allows to restore a model\"\"\"\n",
    "        pass"
   ]
  },
  {
   "cell_type": "markdown",
   "metadata": {},
   "source": [
    "***\n",
    "__Question 1__:\n",
    "Explain the function act. Why is ```epsilon``` essential?"
   ]
  },
  {
   "cell_type": "markdown",
   "metadata": {},
   "source": [
    "The function *act* choose an action to take given the current state.\n",
    "\n",
    "If we don't use ```epsilon```, then the model would choose the action that gives the best reward given what it learnt and never try another action.\n",
    "The idea is that in the proportion ```epsilon``` of the trials the model will choose an action randomly and gain information, and in the proportion ```1 - epsilon``` of the trials it would stick to the learnt policy and take the best action according to it.\n",
    "In the end the greater ```epsilon``` the more explorative the model will be, but the less greedy it will be.\n",
    "We call this the exploration exploitation dilemma."
   ]
  },
  {
   "cell_type": "markdown",
   "metadata": {},
   "source": [
    "***\n",
    "### The Game"
   ]
  },
  {
   "cell_type": "markdown",
   "metadata": {},
   "source": [
    "The ```Agent``` and the ```Environment``` work in an interlaced way as in the following (take some time to understand this code as it is the core of the project)\n",
    "\n",
    "```python\n",
    "\n",
    "epoch = 300\n",
    "env = Environment()\n",
    "agent = Agent()\n",
    "\n",
    "\n",
    "# Number of won games\n",
    "score = 0\n",
    "loss = 0\n",
    "\n",
    "\n",
    "for e in range(epoch):\n",
    "    # At each epoch, we restart to a fresh game and get the initial state\n",
    "    state = env.reset()\n",
    "    # This assumes that the games will end\n",
    "    game_over = False\n",
    "\n",
    "    win = 0\n",
    "    lose = 0\n",
    "    \n",
    "    while not game_over:\n",
    "        # The agent performs an action\n",
    "        action = agent.act(state)\n",
    "\n",
    "        # Apply an action to the environment, get the next state, the reward\n",
    "        # and if the games end\n",
    "        prev_state = state\n",
    "        state, reward, game_over = env.act(action)\n",
    "\n",
    "        # Update the counters\n",
    "        if reward > 0:\n",
    "            win = win + reward\n",
    "        if reward < 0:\n",
    "            lose = lose -reward\n",
    "\n",
    "        # Apply the reinforcement strategy\n",
    "        loss = agent.reinforce(prev_state, state,  action, reward, game_over)\n",
    "\n",
    "    # Save as a mp4\n",
    "    if e % 10 == 0:\n",
    "        env.draw(e)\n",
    "\n",
    "    # Update stats\n",
    "    score += win-lose\n",
    "\n",
    "    print(\"Epoch {:03d}/{:03d} | Loss {:.4f} | Win/lose count {}/{} ({})\"\n",
    "          .format(e, epoch, loss, win, lose, win-lose))\n",
    "    agent.save()\n",
    "```"
   ]
  },
  {
   "cell_type": "markdown",
   "metadata": {},
   "source": [
    "# The game, *eat cheese*"
   ]
  },
  {
   "cell_type": "markdown",
   "metadata": {},
   "source": [
    "A rat runs on an island and tries to eat as much as possible. The island is subdivided into $N\\times N$ cells, in which there are cheese (+0.5) and poisonous cells (-1). The rat has a visibility of 2 cells (thus it can see $5^2$ cells). The rat is given a time $T$ to accumulate as much food as possible. It can perform 4 actions: going up, down, left, right. \n",
    "\n",
    "The goal is to code an agent to solve this task that will learn by trial and error. We propose the following environment:"
   ]
  },
  {
   "cell_type": "code",
   "execution_count": 4,
   "metadata": {},
   "outputs": [],
   "source": [
    "class Environment(object):\n",
    "    def __init__(self, grid_size=10, max_time=500, temperature=0.1):\n",
    "        grid_size = grid_size + 4\n",
    "        self.grid_size = grid_size\n",
    "        self.max_time = max_time\n",
    "        self.temperature = temperature\n",
    "\n",
    "        #board on which one plays\n",
    "        self.board = np.zeros((grid_size,grid_size))\n",
    "        self.position = np.zeros((grid_size,grid_size))\n",
    "\n",
    "        # coordinate of the cat\n",
    "        self.x = 0\n",
    "        self.y = 1\n",
    "\n",
    "        # self time\n",
    "        self.t = 0\n",
    "\n",
    "        self.scale=16\n",
    "\n",
    "        self.to_draw = np.zeros((max_time+2, grid_size*self.scale, grid_size*self.scale, 3))\n",
    "\n",
    "\n",
    "    def draw(self,e):\n",
    "        skvideo.io.vwrite(str(e) + '.mp4', self.to_draw)\n",
    "\n",
    "    def get_frame(self,t):\n",
    "        b = np.zeros((self.grid_size,self.grid_size,3))+128\n",
    "        b[self.board > 0, 0] = 256\n",
    "        b[self.board < 0, 2] = 256\n",
    "        b[self.x,self.y,:] = 256\n",
    "        b[-2:,:,:] = 0\n",
    "        b[:,-2:,:] = 0\n",
    "        b[:2,:,:] = 0\n",
    "        b[:,:2,:] = 0\n",
    "        \n",
    "        b =  cv2.resize(b, None, fx=self.scale, fy=self.scale, interpolation=cv2.INTER_NEAREST)\n",
    "\n",
    "        self.to_draw[t,:,:,:] = b\n",
    "\n",
    "\n",
    "    def act(self, action):\n",
    "        \"\"\"This function returns the new state, reward and decides if the\n",
    "        game ends.\"\"\"\n",
    "\n",
    "        self.get_frame(int(self.t))\n",
    "\n",
    "        self.position = np.zeros((self.grid_size, self.grid_size))\n",
    "\n",
    "        self.position[0:2,:] = -1\n",
    "        self.position[:,0:2] = -1\n",
    "        self.position[-2:, :] = -1\n",
    "        self.position[-2:, :] = -1\n",
    "\n",
    "        self.position[self.x, self.y] = 1\n",
    "        if action == 0:\n",
    "            if self.x == self.grid_size - 3:\n",
    "                self.x = self.x - 1\n",
    "            else:\n",
    "                self.x = self.x + 1\n",
    "        elif action == 1:\n",
    "            if self.x == 2:\n",
    "                self.x = self.x + 1\n",
    "            else:\n",
    "                self.x = self.x - 1\n",
    "        elif action == 2:\n",
    "            if self.y == self.grid_size - 3:\n",
    "                self.y = self.y - 1\n",
    "            else:\n",
    "                self.y = self.y + 1\n",
    "        elif action == 3:\n",
    "            if self.y == 2:\n",
    "                self.y = self.y + 1\n",
    "            else:\n",
    "                self.y = self.y - 1\n",
    "        else:\n",
    "            RuntimeError('Error: action not recognized')\n",
    "\n",
    "        self.t = self.t + 1\n",
    "        reward = self.board[self.x, self.y]\n",
    "        self.board[self.x, self.y] = 0\n",
    "        game_over = self.t > self.max_time\n",
    "        state = np.concatenate((self.board.reshape(self.grid_size, self.grid_size,1),\n",
    "                        self.position.reshape(self.grid_size, self.grid_size,1)),axis=2)\n",
    "        state = state[self.x-2:self.x+3,self.y-2:self.y+3,:]\n",
    "\n",
    "        return state, reward, game_over\n",
    "\n",
    "    def reset(self):\n",
    "        \"\"\"This function resets the game and returns the initial state\"\"\"\n",
    "\n",
    "        self.x = np.random.randint(3, self.grid_size-3, size=1)[0]\n",
    "        self.y = np.random.randint(3, self.grid_size-3, size=1)[0]\n",
    "\n",
    "\n",
    "        bonus = 0.5*np.random.binomial(1,self.temperature,size=self.grid_size**2)\n",
    "        bonus = bonus.reshape(self.grid_size,self.grid_size)\n",
    "\n",
    "        malus = -1.0*np.random.binomial(1,self.temperature,size=self.grid_size**2)\n",
    "        malus = malus.reshape(self.grid_size, self.grid_size)\n",
    "\n",
    "        self.to_draw = np.zeros((self.max_time+2, self.grid_size*self.scale, self.grid_size*self.scale, 3))\n",
    "\n",
    "\n",
    "        malus[bonus>0]=0\n",
    "\n",
    "        self.board = bonus + malus\n",
    "\n",
    "        self.position = np.zeros((self.grid_size, self.grid_size))\n",
    "        self.position[0:2,:]= -1\n",
    "        self.position[:,0:2] = -1\n",
    "        self.position[-2:, :] = -1\n",
    "        self.position[-2:, :] = -1\n",
    "        self.board[self.x,self.y] = 0\n",
    "        self.t = 0\n",
    "\n",
    "        state = np.concatenate((\n",
    "                               self.board.reshape(self.grid_size, self.grid_size,1),\n",
    "                        self.position.reshape(self.grid_size, self.grid_size,1)),axis=2)\n",
    "\n",
    "        state = state[self.x - 2:self.x + 3, self.y - 2:self.y + 3, :]\n",
    "        return state"
   ]
  },
  {
   "cell_type": "markdown",
   "metadata": {},
   "source": [
    "The following elements are important because they correspond to the hyper parameters for this project:"
   ]
  },
  {
   "cell_type": "code",
   "execution_count": 5,
   "metadata": {},
   "outputs": [],
   "source": [
    "# parameters\n",
    "size = 13\n",
    "T = 200\n",
    "temperature = 0.3\n",
    "epochs_train = 10 # set small when debugging\n",
    "epochs_test = 10 # set small when debugging\n",
    "\n",
    "# display videos\n",
    "def display_videos(name):\n",
    "    video = io.open(name, 'r+b').read()\n",
    "    encoded = base64.b64encode(video)\n",
    "    return '''<video alt=\"test\" controls>\n",
    "                <source src=\"data:video/mp4;base64,{0}\" type=\"video/mp4\" />\n",
    "             </video>'''.format(encoded.decode('ascii'))"
   ]
  },
  {
   "cell_type": "markdown",
   "metadata": {},
   "source": [
    "__Question 2__ Explain the use of the arrays ```position``` and ```board```."
   ]
  },
  {
   "cell_type": "markdown",
   "metadata": {},
   "source": [
    "The array ```position``` gives the position of the mouse on the island. In particular it is set to one where the mouse is and 0 everywhere else, except on the extra cells at the edge of the island where it is set to -1.\n",
    "\n",
    "The array ```board``` is generated randomly as the beginning of the game by the method *reset*. It contains the reward (bonus or malus) of each cell. That is when the mouse goes on a cell, it will receive a reward given by the value in the ```board``` array at this position. Then when the mouse leaves the cell it's value is turned to 0 (as the poisonous or edible cheese was eaten). "
   ]
  },
  {
   "cell_type": "markdown",
   "metadata": {},
   "source": [
    "## Random Agent"
   ]
  },
  {
   "cell_type": "markdown",
   "metadata": {},
   "source": [
    "***\n",
    "__Question 3__ Implement a random Agent (only ```learned_act``` needs to be implemented):"
   ]
  },
  {
   "cell_type": "code",
   "execution_count": 6,
   "metadata": {},
   "outputs": [],
   "source": [
    "class RandomAgent(Agent):\n",
    "    def __init__(self):\n",
    "        super(RandomAgent, self).__init__()\n",
    "        pass\n",
    "\n",
    "    def learned_act(self, s):\n",
    "        return np.random.randint(0, 4, 1)"
   ]
  },
  {
   "cell_type": "markdown",
   "metadata": {},
   "source": [
    "***\n",
    "***\n",
    "__Question 4__ Visualize the game moves. You need to fill in the following function for the evaluation:"
   ]
  },
  {
   "cell_type": "code",
   "execution_count": 7,
   "metadata": {},
   "outputs": [],
   "source": [
    "def test(agent, env, epochs, prefix=''):\n",
    "    # Number of won games\n",
    "    score = 0\n",
    "        \n",
    "    for e in range(epochs):\n",
    "        \n",
    "        ##### FILL IN HERE\n",
    "        \n",
    "        # At each epoch, we restart to a fresh game and get the initial state\n",
    "        state = env.reset()\n",
    "        # This assumes that the games will end\n",
    "        game_over = False\n",
    "\n",
    "        win = 0\n",
    "        lose = 0\n",
    "\n",
    "        while not game_over:\n",
    "            # The agent performs an action\n",
    "            action = agent.learned_act(state)\n",
    "\n",
    "            # Apply an action to the environment, get the next state, the reward\n",
    "            # and if the games end\n",
    "            prev_state = state\n",
    "            state, reward, game_over = env.act(action)\n",
    "\n",
    "            # Update the counters\n",
    "            if reward > 0:\n",
    "                win = win + reward\n",
    "            if reward < 0:\n",
    "                lose = lose -reward\n",
    "\n",
    "            # Apply the reinforcement strategy\n",
    "            loss = agent.reinforce(prev_state, state,  action, reward, game_over)\n",
    "\n",
    "        # Save as a mp4\n",
    "        env.draw(prefix+str(e))\n",
    "\n",
    "        # Update stats\n",
    "        score = score + win - lose\n",
    "\n",
    "        print(\"Win/lose count {}/{}. Average score ({})\"\n",
    "              .format(win, lose, score/(1+e)))\n",
    "    print('Final score: '+str(score/epochs))"
   ]
  },
  {
   "cell_type": "code",
   "execution_count": 8,
   "metadata": {},
   "outputs": [
    {
     "name": "stdout",
     "output_type": "stream",
     "text": [
      "Win/lose count 8.5/14.0. Average score (-5.5)\n",
      "Win/lose count 6.0/11.0. Average score (-5.25)\n",
      "Win/lose count 6.0/13.0. Average score (-5.833333333333333)\n",
      "Win/lose count 12.5/26.0. Average score (-7.75)\n",
      "Win/lose count 12.0/18.0. Average score (-7.4)\n",
      "Win/lose count 7.0/12.0. Average score (-7.0)\n",
      "Win/lose count 14.0/17.0. Average score (-6.428571428571429)\n",
      "Win/lose count 10.5/12.0. Average score (-5.8125)\n",
      "Win/lose count 10.5/16.0. Average score (-5.777777777777778)\n",
      "Win/lose count 10.0/13.0. Average score (-5.5)\n",
      "Final score: -5.5\n"
     ]
    },
    {
     "data": {
      "text/html": [
       "<video alt=\"test\" controls>\n",
       "                <source src=\"data:video/mp4;base64,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\" type=\"video/mp4\" />\n",
       "             </video>"
      ],
      "text/plain": [
       "<IPython.core.display.HTML object>"
      ]
     },
     "execution_count": 8,
     "metadata": {},
     "output_type": "execute_result"
    }
   ],
   "source": [
    "# Initialize the game\n",
    "env = Environment(grid_size=size, max_time=T, temperature=temperature)\n",
    "\n",
    "# Initialize the agent!\n",
    "agent = RandomAgent()\n",
    "\n",
    "test(agent, env, epochs_test, prefix='random')\n",
    "HTML(display_videos('random0.mp4'))"
   ]
  },
  {
   "cell_type": "markdown",
   "metadata": {},
   "source": [
    "***\n",
    "## DQN"
   ]
  },
  {
   "cell_type": "markdown",
   "metadata": {},
   "source": [
    "Let us assume here that $T=\\infty$.\n",
    "\n",
    "***\n",
    "__Question 5__ Let $\\pi$ be a policy, show that:\n",
    "\n",
    "\\begin{equation*}\n",
    "Q^{\\pi}(s,a)=E_{(s',a')\\sim p(.|s,a)}[r(s,a)+\\gamma Q^{\\pi}(s',a')]\n",
    "\\end{equation*}\n",
    "\n",
    "Then, show that for the optimal policy $\\pi^*$ (we assume its existence), the following holds: \n",
    "\n",
    "\\begin{equation*}\n",
    "Q^{*}(s,a)=E_{s'\\sim \\pi^*(.|s,a)}[r(s,a)+\\gamma\\max_{a'}Q^{*}(s',a')].\n",
    "\\end{equation*}\n",
    "Finally, deduce that a plausible objective is:\n",
    "\n",
    "\\begin{equation*}\n",
    "\\mathcal{L}(\\theta)=E_{s' \\sim \\pi^*(.|s,a)}\\Vert r+\\gamma\\max\\max_{a'}Q(s',a',\\theta)-Q(s,a,\\theta)\\Vert^{2}.\n",
    "\\end{equation*}\n",
    "\n",
    "\n"
   ]
  },
  {
   "cell_type": "markdown",
   "metadata": {},
   "source": []
  },
  {
   "cell_type": "markdown",
   "metadata": {},
   "source": [
    "***\n",
    "The DQN-learning algorithm relies on these derivations to train the parameters $\\theta$ of a Deep Neural Network:\n",
    "\n",
    "1. At the state $s_t$, select the action $a_t$ with best reward using $Q_t$ and store the results;\n",
    "\n",
    "2. Obtain the new state $s_{t+1}$ from the environment $p$;\n",
    "\n",
    "3. Store $(s_t,a_t,s_{t+1})$;\n",
    "\n",
    "4. Obtain $Q_{t+1}$ by minimizing  $\\mathcal{L}$ from a recovered batch from the previously stored results.\n",
    "\n",
    "***\n",
    "__Question 6__ Implement the class ```Memory``` that stores moves (in a replay buffer) via ```remember``` and provides a ```random_access``` to these. Specify a maximum memory size to avoid side effects. You can for example use a ```list()``` and set by default ```max_memory=100```."
   ]
  },
  {
   "cell_type": "code",
   "execution_count": null,
   "metadata": {
    "collapsed": true
   },
   "outputs": [],
   "source": [
    "class Memory(object):\n",
    "    def __init__(self, max_memory=100):\n",
    "        self.max_memory = max_memory\n",
    "        self.memory = list()\n",
    "\n",
    "    def remember(self, m):\n",
    "        pass\n",
    "\n",
    "    def random_access(self):\n",
    "        pass"
   ]
  },
  {
   "cell_type": "markdown",
   "metadata": {},
   "source": [
    "***\n",
    "The pipeline we will use for training is given below:"
   ]
  },
  {
   "cell_type": "code",
   "execution_count": null,
   "metadata": {
    "collapsed": true
   },
   "outputs": [],
   "source": [
    "def train(agent,env,epoch,prefix=''):\n",
    "    # Number of won games\n",
    "    score = 0\n",
    "    loss = 0\n",
    "\n",
    "    for e in range(epoch):\n",
    "        # At each epoch, we restart to a fresh game and get the initial state\n",
    "        state = env.reset()\n",
    "        # This assumes that the games will terminate\n",
    "        game_over = False\n",
    "\n",
    "        win = 0\n",
    "        lose = 0\n",
    "\n",
    "        while not game_over:\n",
    "            # The agent performs an action\n",
    "            action = agent.act(state)\n",
    "\n",
    "            # Apply an action to the environment, get the next state, the reward\n",
    "            # and if the games end\n",
    "            prev_state = state\n",
    "            state, reward, game_over = env.act(action)\n",
    "\n",
    "            # Update the counters\n",
    "            if reward > 0:\n",
    "                win = win + reward\n",
    "            if reward < 0:\n",
    "                lose = lose -reward\n",
    "\n",
    "            # Apply the reinforcement strategy\n",
    "            loss = agent.reinforce(prev_state, state,  action, reward, game_over)\n",
    "\n",
    "        # Save as a mp4\n",
    "        if e % 10 == 0:\n",
    "            env.draw(prefix+str(e))\n",
    "\n",
    "        # Update stats\n",
    "        score += win-lose\n",
    "\n",
    "        print(\"Epoch {:03d}/{:03d} | Loss {:.4f} | Win/lose count {}/{} ({})\"\n",
    "              .format(e, epoch, loss, win, lose, win-lose))\n",
    "        agent.save(name_weights=prefix+'model.h5',name_model=prefix+'model.json')"
   ]
  },
  {
   "cell_type": "markdown",
   "metadata": {},
   "source": [
    "***\n",
    "__Question 7__ Implement the DQN training algorithm using a cascade of fully connected layers. You can use different learning rate, batch size or memory size parameters. In particular, the loss might oscillate while the player will start to win the games. You have to find a good criterium."
   ]
  },
  {
   "cell_type": "code",
   "execution_count": null,
   "metadata": {
    "collapsed": true
   },
   "outputs": [],
   "source": [
    "class DQN(Agent):\n",
    "    def __init__(self, grid_size,  epsilon = 0.1, memory_size=100, batch_size = 16,n_state=2):\n",
    "        super(DQN, self).__init__(epsilon = epsilon)\n",
    "\n",
    "        # Discount for Q learning\n",
    "        self.discount = 0.99\n",
    "        \n",
    "        self.grid_size = grid_size\n",
    "        \n",
    "        # number of state\n",
    "        self.n_state = n_state\n",
    "\n",
    "        # Memory\n",
    "        self.memory = Memory(memory_size)\n",
    "        \n",
    "        # Batch size when learning\n",
    "        self.batch_size = batch_size\n",
    "\n",
    "    def learned_act(self, s):\n",
    "        pass\n",
    "\n",
    "    def reinforce(self, s_, n_s_, a_, r_, game_over_):\n",
    "        # Two steps: first memorize the states, second learn from the pool\n",
    "\n",
    "        self.memory.remember([s_, n_s_, a_, r_, game_over_])\n",
    "        \n",
    "        input_states = np.zeros((self.batch_size, 5,5,self.n_state))\n",
    "        target_q = np.zeros((self.batch_size, 4))\n",
    "        \n",
    "        for i in range(self.batch_size):\n",
    "            ######## FILL IN\n",
    "            \n",
    "            if game_over_:\n",
    "                ######## FILL IN\n",
    "            else:\n",
    "                ######## FILL IN\n",
    "        ######## FILL IN\n",
    "        # HINT: Clip the target to avoid exploiding gradients.. -- clipping is a bit tighter\n",
    "        target_q = np.clip(target_q, -3, 3)\n",
    "\n",
    "        l = self.model.train_on_batch(input_states, target_q)\n",
    "\n",
    "\n",
    "        return l\n",
    "\n",
    "    def save(self,name_weights='model.h5',name_model='model.json'):\n",
    "        self.model.save_weights(name_weights, overwrite=True)\n",
    "        with open(name_model, \"w\") as outfile:\n",
    "            json.dump(self.model.to_json(), outfile)\n",
    "            \n",
    "    def load(self,name_weights='model.h5',name_model='model.json'):\n",
    "        with open(name_model, \"r\") as jfile:\n",
    "            model = model_from_json(json.load(jfile))\n",
    "        model.load_weights(name_weights)\n",
    "        model.compile(\"sgd\", \"mse\")\n",
    "        self.model = model\n",
    "\n",
    "            \n",
    "class DQN_FC(DQN):\n",
    "    def __init__(self, *args, lr=0.1,**kwargs):\n",
    "        super(DQN_FC, self).__init__( *args,**kwargs)\n",
    "        \n",
    "        # NN Model\n",
    "        \n",
    "        ####### FILL IN\n",
    "        \n",
    "        model.compile(sgd(lr=lr, decay=1e-4, momentum=0.0), \"mse\")\n",
    "        self.model = model\n",
    "        "
   ]
  },
  {
   "cell_type": "code",
   "execution_count": null,
   "metadata": {
    "collapsed": true
   },
   "outputs": [],
   "source": [
    "env = Environment(grid_size=size, max_time=T, temperature=0.3)\n",
    "agent = DQN_FC(size, lr=.1, epsilon = 0.1, memory_size=2000, batch_size = 32)\n",
    "train(agent, env, epochs_train, prefix='fc_train')\n",
    "HTML(display_videos('fc_train10.mp4'))"
   ]
  },
  {
   "cell_type": "markdown",
   "metadata": {},
   "source": [
    "***\n",
    "***\n",
    "__Question 8__ Implement the DQN training algorithm using a CNN (for example, 2 convolutional layers and one final fully connected layer)."
   ]
  },
  {
   "cell_type": "code",
   "execution_count": null,
   "metadata": {
    "collapsed": true
   },
   "outputs": [],
   "source": [
    "class DQN_CNN(DQN):\n",
    "    def __init__(self, *args,lr=0.1,**kwargs):\n",
    "        super(DQN_CNN, self).__init__(*args,**kwargs)\n",
    "        \n",
    "        ###### FILL IN\n",
    "        \n",
    "        model.compile(sgd(lr=lr, decay=1e-4, momentum=0.0), \"mse\")\n",
    "        self.model = model"
   ]
  },
  {
   "cell_type": "code",
   "execution_count": null,
   "metadata": {
    "collapsed": true
   },
   "outputs": [],
   "source": [
    "env = Environment(grid_size=size, max_time=T, temperature=0.3)\n",
    "agent = DQN_CNN(size, lr=.1, epsilon = 0.1, memory_size=2000, batch_size = 32)\n",
    "train(agent,env,epochs_train,prefix='cnn_train')\n",
    "HTML(display_videos('cnn_train10.mp4'))"
   ]
  },
  {
   "cell_type": "markdown",
   "metadata": {},
   "source": [
    "***\n",
    "***\n",
    "__Question 9__ Test both algorithms and compare their performances. Which issue(s) do you observe? Observe also different behaviors by changing the temperature."
   ]
  },
  {
   "cell_type": "code",
   "execution_count": null,
   "metadata": {
    "collapsed": true
   },
   "outputs": [],
   "source": [
    "env = Environment(grid_size=size, max_time=T,temperature=0.3)\n",
    "agent_cnn = DQN_CNN(size, lr=.1, epsilon = 0.1, memory_size=2000, batch_size = 32)\n",
    "agent_cnn.load(name_weights='cnn_trainmodel.h5',name_model='cnn_trainmodel.json')\n",
    "\n",
    "agent_fc = DQN_FC(size, lr=.1, epsilon = 0.1, memory_size=2000, batch_size = 32)\n",
    "agent_cnn.load(name_weights='fc_trainmodel.h5',name_model='fc_trainmodel.json')\n",
    "print('Test of the CNN')\n",
    "test(agent_cnn,env,epochs_test,prefix='cnn_test')\n",
    "print('Test of the FC')\n",
    "test(agent_fc,env,epochs_test,prefix='fc_test')"
   ]
  },
  {
   "cell_type": "code",
   "execution_count": null,
   "metadata": {
    "collapsed": true
   },
   "outputs": [],
   "source": [
    "HTML(display_videos('cnn_test10.mp4'))"
   ]
  },
  {
   "cell_type": "code",
   "execution_count": null,
   "metadata": {
    "collapsed": true
   },
   "outputs": [],
   "source": [
    "HTML(display_videos('fc_test10.mp4'))"
   ]
  },
  {
   "cell_type": "markdown",
   "metadata": {},
   "source": []
  },
  {
   "cell_type": "markdown",
   "metadata": {},
   "source": [
    "***\n",
    "\n",
    "The algorithm tends to not explore the map which can be an issue. We propose two ideas in order to encourage exploration:\n",
    "1. Incorporating a decreasing $\\epsilon$-greedy exploration. You can use the method ```set_epsilon```\n",
    "2. Append via the environment a new state that describes if a cell has been visited or not\n",
    "\n",
    "***\n",
    "__Question 10__ Design a new ```train_explore``` function and environment class ```EnvironmentExploring``` to tackle the issue of exploration.\n",
    "\n"
   ]
  },
  {
   "cell_type": "code",
   "execution_count": null,
   "metadata": {
    "collapsed": true
   },
   "outputs": [],
   "source": [
    "def train_explore(agent,env,epoch,prefix=''):\n",
    "    pass\n",
    "        \n",
    "class EnvironmentExploring(object):\n",
    "    def __init__(self, grid_size=10, max_time=500, temperature=0.1):\n",
    "        pass\n",
    "    \n",
    "## use those samples of code:\n",
    "#In train explore:\n",
    "state, reward, game_over = env.act(action, train=True)\n",
    "\n",
    "## In Environment exploring:\n",
    "# You will have to change n_state to 3 because you will use one more layer!\n",
    "reward = 0\n",
    "if train:\n",
    "    reward = -self.malus_position[self.x, self.y]\n",
    "self.malus_position[self.x, self.y] = 0.1\n",
    "\n",
    "reward = reward + self.board[self.x, self.y]\n",
    "# 3 \"feature\" states instead of 2\n",
    "state = np.concatenate((self.malus_position.reshape(self.grid_size, self.grid_size,1),\n",
    "                                self.board.reshape(self.grid_size, self.grid_size,1),\n",
    "                        self.position.reshape(self.grid_size, self.grid_size,1)),axis=2)"
   ]
  },
  {
   "cell_type": "code",
   "execution_count": null,
   "metadata": {
    "collapsed": true
   },
   "outputs": [],
   "source": [
    "# Training\n",
    "env = EnvironmentExploring(grid_size=size, max_time=T, temperature=0.3)\n",
    "agent = DQN_CNN(size, lr=.1, epsilon = 0.1, memory_size=2000, batch_size = 32,n_state=3)\n",
    "train_explore(agent, env, epochs_train, prefix='cnn_train_explore')\n",
    "HTML(display_videos('cnn_train_explore10.mp4'))"
   ]
  },
  {
   "cell_type": "code",
   "execution_count": null,
   "metadata": {
    "collapsed": true
   },
   "outputs": [],
   "source": [
    "# Evaluation\n",
    "test(agent,env,epochs_test,prefix='cnn_test_explore')\n",
    "HTML(display_videos('cnn_test_explore10.mp4'))"
   ]
  },
  {
   "cell_type": "markdown",
   "metadata": {},
   "source": [
    "***\n",
    "***\n",
    "__BONUS question__ Use the expert DQN from the previous question to generate some winning games. Train a model that mimicks its behavior. Compare the performances."
   ]
  },
  {
   "cell_type": "markdown",
   "metadata": {},
   "source": []
  },
  {
   "cell_type": "markdown",
   "metadata": {},
   "source": [
    "***"
   ]
  }
 ],
 "metadata": {
  "kernelspec": {
   "display_name": "Python 3",
   "language": "python",
   "name": "python3"
  },
  "language_info": {
   "codemirror_mode": {
    "name": "ipython",
    "version": 3
   },
   "file_extension": ".py",
   "mimetype": "text/x-python",
   "name": "python",
   "nbconvert_exporter": "python",
   "pygments_lexer": "ipython3",
   "version": "3.7.3"
  }
 },
 "nbformat": 4,
 "nbformat_minor": 2
}
